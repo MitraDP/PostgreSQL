{
 "cells": [
  {
   "cell_type": "code",
   "execution_count": null,
   "metadata": {},
   "outputs": [],
   "source": [
    "Covid 19 Outbreak in Ontario\n",
    "\n",
    "Data:Government of Canada Statistics/Public Health Agency of Canada\n",
    "Status of COVID-19 cases in Ontario\n",
    "    https://data.ontario.ca/dataset/status-of-covid-19-cases-in-ontario/resource/ed270bb8-340b-41f9-a7c6-e8ef587e6d11    \n",
    "Confirmed positive cases of COVID19 in Ontario\n",
    "    https://data.ontario.ca/dataset/confirmed-positive-cases-of-covid-19-in-ontario/resource/455fd63b-603d-4608-8216-7d8647f43350"
   ]
  },
  {
   "cell_type": "code",
   "execution_count": 1,
   "metadata": {},
   "outputs": [
    {
     "data": {
      "text/html": [
       "        <script type=\"text/javascript\">\n",
       "        window.PlotlyConfig = {MathJaxConfig: 'local'};\n",
       "        if (window.MathJax) {MathJax.Hub.Config({SVG: {font: \"STIX-Web\"}});}\n",
       "        if (typeof require !== 'undefined') {\n",
       "        require.undef(\"plotly\");\n",
       "        requirejs.config({\n",
       "            paths: {\n",
       "                'plotly': ['https://cdn.plot.ly/plotly-latest.min']\n",
       "            }\n",
       "        });\n",
       "        require(['plotly'], function(Plotly) {\n",
       "            window._Plotly = Plotly;\n",
       "        });\n",
       "        }\n",
       "        </script>\n",
       "        "
      ]
     },
     "metadata": {},
     "output_type": "display_data"
    }
   ],
   "source": [
    "# import libraries and packages\n",
    "\n",
    "import numpy as np\n",
    "import pandas as pd\n",
    "import matplotlib.pyplot as plt\n",
    "import seaborn as sns\n",
    "from datetime import date\n",
    "from plotly.offline import download_plotlyjs, init_notebook_mode, plot, iplot\n",
    "import plotly.graph_objs as go \n",
    "import cufflinks as cf\n",
    "%matplotlib inline\n",
    "import plotly.express as px\n",
    "\n",
    "# For Notebooks\n",
    "init_notebook_mode(connected=True)"
   ]
  },
  {
   "cell_type": "code",
   "execution_count": 2,
   "metadata": {},
   "outputs": [],
   "source": [
    "# Hospitalized and in ICU with/out ventilator cases\n",
    "# Assign url of file: url\n",
    "url2='https://data.ontario.ca/dataset/f4f86e54-872d-43f8-8a86-3892fd3cb5e6/resource/ed270bb8-340b-41f9-a7c6-e8ef587e6d11/download/covidtesting.csv'\n",
    "# Read file into a DataFrame\n",
    "df=pd.read_csv(url2)"
   ]
  },
  {
   "cell_type": "code",
   "execution_count": 3,
   "metadata": {},
   "outputs": [
    {
     "data": {
      "text/html": [
       "<div>\n",
       "<style scoped>\n",
       "    .dataframe tbody tr th:only-of-type {\n",
       "        vertical-align: middle;\n",
       "    }\n",
       "\n",
       "    .dataframe tbody tr th {\n",
       "        vertical-align: top;\n",
       "    }\n",
       "\n",
       "    .dataframe thead th {\n",
       "        text-align: right;\n",
       "    }\n",
       "</style>\n",
       "<table border=\"1\" class=\"dataframe\">\n",
       "  <thead>\n",
       "    <tr style=\"text-align: right;\">\n",
       "      <th></th>\n",
       "      <th>Reported Date</th>\n",
       "      <th>Confirmed Negative</th>\n",
       "      <th>Presumptive Negative</th>\n",
       "      <th>Presumptive Positive</th>\n",
       "      <th>Confirmed Positive</th>\n",
       "      <th>Resolved</th>\n",
       "      <th>Deaths</th>\n",
       "      <th>Total Cases</th>\n",
       "      <th>Total patients approved for testing as of Reporting Date</th>\n",
       "      <th>Total tests completed in the last day</th>\n",
       "      <th>Under Investigation</th>\n",
       "      <th>Number of patients hospitalized with COVID-19</th>\n",
       "      <th>Number of patients in ICU with COVID-19</th>\n",
       "      <th>Number of patients in ICU on a ventilator with COVID-19</th>\n",
       "    </tr>\n",
       "  </thead>\n",
       "  <tbody>\n",
       "    <tr>\n",
       "      <th>11</th>\n",
       "      <td>2020-02-11</td>\n",
       "      <td>184.0</td>\n",
       "      <td>79.0</td>\n",
       "      <td>0.0</td>\n",
       "      <td>3.0</td>\n",
       "      <td>NaN</td>\n",
       "      <td>NaN</td>\n",
       "      <td>3.0</td>\n",
       "      <td>285.0</td>\n",
       "      <td>NaN</td>\n",
       "      <td>19</td>\n",
       "      <td>NaN</td>\n",
       "      <td>NaN</td>\n",
       "      <td>NaN</td>\n",
       "    </tr>\n",
       "    <tr>\n",
       "      <th>63</th>\n",
       "      <td>2020-04-09</td>\n",
       "      <td>NaN</td>\n",
       "      <td>NaN</td>\n",
       "      <td>NaN</td>\n",
       "      <td>3254.0</td>\n",
       "      <td>2305.0</td>\n",
       "      <td>200.0</td>\n",
       "      <td>5759.0</td>\n",
       "      <td>88698.0</td>\n",
       "      <td>NaN</td>\n",
       "      <td>1208</td>\n",
       "      <td>632.0</td>\n",
       "      <td>264.0</td>\n",
       "      <td>214.0</td>\n",
       "    </tr>\n",
       "    <tr>\n",
       "      <th>51</th>\n",
       "      <td>2020-03-28</td>\n",
       "      <td>33240.0</td>\n",
       "      <td>NaN</td>\n",
       "      <td>NaN</td>\n",
       "      <td>1117.0</td>\n",
       "      <td>8.0</td>\n",
       "      <td>19.0</td>\n",
       "      <td>1144.0</td>\n",
       "      <td>43072.0</td>\n",
       "      <td>NaN</td>\n",
       "      <td>8690</td>\n",
       "      <td>NaN</td>\n",
       "      <td>NaN</td>\n",
       "      <td>NaN</td>\n",
       "    </tr>\n",
       "    <tr>\n",
       "      <th>9</th>\n",
       "      <td>2020-02-08</td>\n",
       "      <td>130.0</td>\n",
       "      <td>25.0</td>\n",
       "      <td>0.0</td>\n",
       "      <td>3.0</td>\n",
       "      <td>NaN</td>\n",
       "      <td>NaN</td>\n",
       "      <td>3.0</td>\n",
       "      <td>197.0</td>\n",
       "      <td>NaN</td>\n",
       "      <td>39</td>\n",
       "      <td>NaN</td>\n",
       "      <td>NaN</td>\n",
       "      <td>NaN</td>\n",
       "    </tr>\n",
       "    <tr>\n",
       "      <th>12</th>\n",
       "      <td>2020-02-12</td>\n",
       "      <td>257.0</td>\n",
       "      <td>44.0</td>\n",
       "      <td>0.0</td>\n",
       "      <td>2.0</td>\n",
       "      <td>1.0</td>\n",
       "      <td>NaN</td>\n",
       "      <td>3.0</td>\n",
       "      <td>313.0</td>\n",
       "      <td>NaN</td>\n",
       "      <td>9</td>\n",
       "      <td>NaN</td>\n",
       "      <td>NaN</td>\n",
       "      <td>NaN</td>\n",
       "    </tr>\n",
       "  </tbody>\n",
       "</table>\n",
       "</div>"
      ],
      "text/plain": [
       "   Reported Date  Confirmed Negative  Presumptive Negative  \\\n",
       "11    2020-02-11               184.0                  79.0   \n",
       "63    2020-04-09                 NaN                   NaN   \n",
       "51    2020-03-28             33240.0                   NaN   \n",
       "9     2020-02-08               130.0                  25.0   \n",
       "12    2020-02-12               257.0                  44.0   \n",
       "\n",
       "    Presumptive Positive  Confirmed Positive  Resolved  Deaths  Total Cases  \\\n",
       "11                   0.0                 3.0       NaN     NaN          3.0   \n",
       "63                   NaN              3254.0    2305.0   200.0       5759.0   \n",
       "51                   NaN              1117.0       8.0    19.0       1144.0   \n",
       "9                    0.0                 3.0       NaN     NaN          3.0   \n",
       "12                   0.0                 2.0       1.0     NaN          3.0   \n",
       "\n",
       "    Total patients approved for testing as of Reporting Date  \\\n",
       "11                                              285.0          \n",
       "63                                            88698.0          \n",
       "51                                            43072.0          \n",
       "9                                               197.0          \n",
       "12                                              313.0          \n",
       "\n",
       "    Total tests completed in the last day  Under Investigation  \\\n",
       "11                                    NaN                   19   \n",
       "63                                    NaN                 1208   \n",
       "51                                    NaN                 8690   \n",
       "9                                     NaN                   39   \n",
       "12                                    NaN                    9   \n",
       "\n",
       "    Number of patients hospitalized with COVID-19  \\\n",
       "11                                            NaN   \n",
       "63                                          632.0   \n",
       "51                                            NaN   \n",
       "9                                             NaN   \n",
       "12                                            NaN   \n",
       "\n",
       "    Number of patients in ICU with COVID-19  \\\n",
       "11                                      NaN   \n",
       "63                                    264.0   \n",
       "51                                      NaN   \n",
       "9                                       NaN   \n",
       "12                                      NaN   \n",
       "\n",
       "    Number of patients in ICU on a ventilator with COVID-19  \n",
       "11                                                NaN        \n",
       "63                                              214.0        \n",
       "51                                                NaN        \n",
       "9                                                 NaN        \n",
       "12                                                NaN        "
      ]
     },
     "execution_count": 3,
     "metadata": {},
     "output_type": "execute_result"
    }
   ],
   "source": [
    "# Examine samples of the DataFrame\n",
    "df.sample(5)"
   ]
  },
  {
   "cell_type": "code",
   "execution_count": 4,
   "metadata": {},
   "outputs": [
    {
     "data": {
      "text/plain": [
       "(70, 14)"
      ]
     },
     "execution_count": 4,
     "metadata": {},
     "output_type": "execute_result"
    }
   ],
   "source": [
    "# Examine the shape of the DataFrame\n",
    "df.shape"
   ]
  },
  {
   "cell_type": "code",
   "execution_count": 5,
   "metadata": {},
   "outputs": [
    {
     "name": "stdout",
     "output_type": "stream",
     "text": [
      "<class 'pandas.core.frame.DataFrame'>\n",
      "RangeIndex: 70 entries, 0 to 69\n",
      "Data columns (total 14 columns):\n",
      " #   Column                                                    Non-Null Count  Dtype  \n",
      "---  ------                                                    --------------  -----  \n",
      " 0   Reported Date                                             70 non-null     object \n",
      " 1   Confirmed Negative                                        47 non-null     float64\n",
      " 2   Presumptive Negative                                      12 non-null     float64\n",
      " 3   Presumptive Positive                                      25 non-null     float64\n",
      " 4   Confirmed Positive                                        68 non-null     float64\n",
      " 5   Resolved                                                  58 non-null     float64\n",
      " 6   Deaths                                                    30 non-null     float64\n",
      " 7   Total Cases                                               68 non-null     float64\n",
      " 8   Total patients approved for testing as of Reporting Date  64 non-null     float64\n",
      " 9   Total tests completed in the last day                     1 non-null      float64\n",
      " 10  Under Investigation                                       70 non-null     int64  \n",
      " 11  Number of patients hospitalized with COVID-19             14 non-null     float64\n",
      " 12  Number of patients in ICU with COVID-19                   14 non-null     float64\n",
      " 13  Number of patients in ICU on a ventilator with COVID-19   14 non-null     float64\n",
      "dtypes: float64(12), int64(1), object(1)\n",
      "memory usage: 7.8+ KB\n"
     ]
    }
   ],
   "source": [
    "# Examine the summary of the DataFrame\n",
    "df.info()"
   ]
  },
  {
   "cell_type": "code",
   "execution_count": 6,
   "metadata": {},
   "outputs": [],
   "source": [
    "# Change the Reported Date column name to date\n",
    "df.rename(columns={'Reported Date':'date'}, inplace=True)\n",
    "\n",
    "#Change the 'date' object to datetime\n",
    "df.date = pd.to_datetime(df.date)"
   ]
  },
  {
   "cell_type": "code",
   "execution_count": 7,
   "metadata": {},
   "outputs": [
    {
     "name": "stdout",
     "output_type": "stream",
     "text": [
      "date                                                         0\n",
      "Confirmed Negative                                          23\n",
      "Presumptive Negative                                        58\n",
      "Presumptive Positive                                        45\n",
      "Confirmed Positive                                           2\n",
      "Resolved                                                    12\n",
      "Deaths                                                      40\n",
      "Total Cases                                                  2\n",
      "Total patients approved for testing as of Reporting Date     6\n",
      "Total tests completed in the last day                       69\n",
      "Under Investigation                                          0\n",
      "Number of patients hospitalized with COVID-19               56\n",
      "Number of patients in ICU with COVID-19                     56\n",
      "Number of patients in ICU on a ventilator with COVID-19     56\n",
      "dtype: int64\n"
     ]
    }
   ],
   "source": [
    "# Count the number of missing values in each column\n",
    "print(df.isnull().sum())"
   ]
  },
  {
   "cell_type": "code",
   "execution_count": 8,
   "metadata": {},
   "outputs": [],
   "source": [
    "#Drop the 'Confirmed Negative', 'Presumptive Negative', 'Total tests completed in the last day', 'Under Investigation', 'Presumptive Positive', 'Confirmed Positive', 'Resolved', 'Total patients approved for testing as of Reporting Date', and 'Total Cases' columns\n",
    "df.drop(['Confirmed Negative', 'Presumptive Negative','Total tests completed in the last day',  'Under Investigation', 'Presumptive Positive', 'Confirmed Positive', 'Resolved', 'Total patients approved for testing as of Reporting Date', 'Total Cases'], axis='columns', inplace=True)\n"
   ]
  },
  {
   "cell_type": "code",
   "execution_count": 9,
   "metadata": {},
   "outputs": [
    {
     "data": {
      "text/html": [
       "<div>\n",
       "<style scoped>\n",
       "    .dataframe tbody tr th:only-of-type {\n",
       "        vertical-align: middle;\n",
       "    }\n",
       "\n",
       "    .dataframe tbody tr th {\n",
       "        vertical-align: top;\n",
       "    }\n",
       "\n",
       "    .dataframe thead th {\n",
       "        text-align: right;\n",
       "    }\n",
       "</style>\n",
       "<table border=\"1\" class=\"dataframe\">\n",
       "  <thead>\n",
       "    <tr style=\"text-align: right;\">\n",
       "      <th></th>\n",
       "      <th>date</th>\n",
       "      <th>Deaths</th>\n",
       "      <th>Number of patients hospitalized with COVID-19</th>\n",
       "      <th>Number of patients in ICU with COVID-19</th>\n",
       "      <th>Number of patients in ICU on a ventilator with COVID-19</th>\n",
       "    </tr>\n",
       "  </thead>\n",
       "  <tbody>\n",
       "    <tr>\n",
       "      <th>65</th>\n",
       "      <td>2020-04-11</td>\n",
       "      <td>253.0</td>\n",
       "      <td>691.0</td>\n",
       "      <td>257.0</td>\n",
       "      <td>215.0</td>\n",
       "    </tr>\n",
       "    <tr>\n",
       "      <th>66</th>\n",
       "      <td>2020-04-12</td>\n",
       "      <td>274.0</td>\n",
       "      <td>738.0</td>\n",
       "      <td>261.0</td>\n",
       "      <td>196.0</td>\n",
       "    </tr>\n",
       "    <tr>\n",
       "      <th>67</th>\n",
       "      <td>2020-04-13</td>\n",
       "      <td>291.0</td>\n",
       "      <td>760.0</td>\n",
       "      <td>263.0</td>\n",
       "      <td>203.0</td>\n",
       "    </tr>\n",
       "    <tr>\n",
       "      <th>68</th>\n",
       "      <td>2020-04-14</td>\n",
       "      <td>334.0</td>\n",
       "      <td>769.0</td>\n",
       "      <td>255.0</td>\n",
       "      <td>199.0</td>\n",
       "    </tr>\n",
       "    <tr>\n",
       "      <th>69</th>\n",
       "      <td>2020-04-15</td>\n",
       "      <td>385.0</td>\n",
       "      <td>795.0</td>\n",
       "      <td>254.0</td>\n",
       "      <td>188.0</td>\n",
       "    </tr>\n",
       "  </tbody>\n",
       "</table>\n",
       "</div>"
      ],
      "text/plain": [
       "         date  Deaths  Number of patients hospitalized with COVID-19  \\\n",
       "65 2020-04-11   253.0                                          691.0   \n",
       "66 2020-04-12   274.0                                          738.0   \n",
       "67 2020-04-13   291.0                                          760.0   \n",
       "68 2020-04-14   334.0                                          769.0   \n",
       "69 2020-04-15   385.0                                          795.0   \n",
       "\n",
       "    Number of patients in ICU with COVID-19  \\\n",
       "65                                    257.0   \n",
       "66                                    261.0   \n",
       "67                                    263.0   \n",
       "68                                    255.0   \n",
       "69                                    254.0   \n",
       "\n",
       "    Number of patients in ICU on a ventilator with COVID-19  \n",
       "65                                              215.0        \n",
       "66                                              196.0        \n",
       "67                                              203.0        \n",
       "68                                              199.0        \n",
       "69                                              188.0        "
      ]
     },
     "execution_count": 9,
     "metadata": {},
     "output_type": "execute_result"
    }
   ],
   "source": [
    "df.tail()"
   ]
  },
  {
   "cell_type": "code",
   "execution_count": 10,
   "metadata": {},
   "outputs": [],
   "source": [
    "df.fillna(0, inplace=True)"
   ]
  },
  {
   "cell_type": "code",
   "execution_count": 11,
   "metadata": {},
   "outputs": [],
   "source": [
    "# The hospital data are available only for April 2nd and after.\n",
    "df1=df[df['Number of patients hospitalized with COVID-19']!=0]"
   ]
  },
  {
   "cell_type": "code",
   "execution_count": 12,
   "metadata": {},
   "outputs": [
    {
     "data": {
      "text/html": [
       "<div>\n",
       "<style scoped>\n",
       "    .dataframe tbody tr th:only-of-type {\n",
       "        vertical-align: middle;\n",
       "    }\n",
       "\n",
       "    .dataframe tbody tr th {\n",
       "        vertical-align: top;\n",
       "    }\n",
       "\n",
       "    .dataframe thead th {\n",
       "        text-align: right;\n",
       "    }\n",
       "</style>\n",
       "<table border=\"1\" class=\"dataframe\">\n",
       "  <thead>\n",
       "    <tr style=\"text-align: right;\">\n",
       "      <th></th>\n",
       "      <th>date</th>\n",
       "      <th>Deaths</th>\n",
       "      <th>Number of patients hospitalized with COVID-19</th>\n",
       "      <th>Number of patients in ICU with COVID-19</th>\n",
       "      <th>Number of patients in ICU on a ventilator with COVID-19</th>\n",
       "    </tr>\n",
       "  </thead>\n",
       "  <tbody>\n",
       "    <tr>\n",
       "      <th>56</th>\n",
       "      <td>2020-04-02</td>\n",
       "      <td>53.0</td>\n",
       "      <td>405.0</td>\n",
       "      <td>167.0</td>\n",
       "      <td>112.0</td>\n",
       "    </tr>\n",
       "    <tr>\n",
       "      <th>57</th>\n",
       "      <td>2020-04-03</td>\n",
       "      <td>67.0</td>\n",
       "      <td>462.0</td>\n",
       "      <td>194.0</td>\n",
       "      <td>140.0</td>\n",
       "    </tr>\n",
       "    <tr>\n",
       "      <th>58</th>\n",
       "      <td>2020-04-04</td>\n",
       "      <td>94.0</td>\n",
       "      <td>506.0</td>\n",
       "      <td>196.0</td>\n",
       "      <td>152.0</td>\n",
       "    </tr>\n",
       "    <tr>\n",
       "      <th>59</th>\n",
       "      <td>2020-04-05</td>\n",
       "      <td>119.0</td>\n",
       "      <td>523.0</td>\n",
       "      <td>200.0</td>\n",
       "      <td>154.0</td>\n",
       "    </tr>\n",
       "    <tr>\n",
       "      <th>60</th>\n",
       "      <td>2020-04-06</td>\n",
       "      <td>132.0</td>\n",
       "      <td>589.0</td>\n",
       "      <td>216.0</td>\n",
       "      <td>160.0</td>\n",
       "    </tr>\n",
       "    <tr>\n",
       "      <th>61</th>\n",
       "      <td>2020-04-07</td>\n",
       "      <td>153.0</td>\n",
       "      <td>614.0</td>\n",
       "      <td>233.0</td>\n",
       "      <td>187.0</td>\n",
       "    </tr>\n",
       "    <tr>\n",
       "      <th>62</th>\n",
       "      <td>2020-04-08</td>\n",
       "      <td>174.0</td>\n",
       "      <td>605.0</td>\n",
       "      <td>246.0</td>\n",
       "      <td>195.0</td>\n",
       "    </tr>\n",
       "    <tr>\n",
       "      <th>63</th>\n",
       "      <td>2020-04-09</td>\n",
       "      <td>200.0</td>\n",
       "      <td>632.0</td>\n",
       "      <td>264.0</td>\n",
       "      <td>214.0</td>\n",
       "    </tr>\n",
       "    <tr>\n",
       "      <th>64</th>\n",
       "      <td>2020-04-10</td>\n",
       "      <td>222.0</td>\n",
       "      <td>673.0</td>\n",
       "      <td>260.0</td>\n",
       "      <td>217.0</td>\n",
       "    </tr>\n",
       "    <tr>\n",
       "      <th>65</th>\n",
       "      <td>2020-04-11</td>\n",
       "      <td>253.0</td>\n",
       "      <td>691.0</td>\n",
       "      <td>257.0</td>\n",
       "      <td>215.0</td>\n",
       "    </tr>\n",
       "    <tr>\n",
       "      <th>66</th>\n",
       "      <td>2020-04-12</td>\n",
       "      <td>274.0</td>\n",
       "      <td>738.0</td>\n",
       "      <td>261.0</td>\n",
       "      <td>196.0</td>\n",
       "    </tr>\n",
       "    <tr>\n",
       "      <th>67</th>\n",
       "      <td>2020-04-13</td>\n",
       "      <td>291.0</td>\n",
       "      <td>760.0</td>\n",
       "      <td>263.0</td>\n",
       "      <td>203.0</td>\n",
       "    </tr>\n",
       "    <tr>\n",
       "      <th>68</th>\n",
       "      <td>2020-04-14</td>\n",
       "      <td>334.0</td>\n",
       "      <td>769.0</td>\n",
       "      <td>255.0</td>\n",
       "      <td>199.0</td>\n",
       "    </tr>\n",
       "    <tr>\n",
       "      <th>69</th>\n",
       "      <td>2020-04-15</td>\n",
       "      <td>385.0</td>\n",
       "      <td>795.0</td>\n",
       "      <td>254.0</td>\n",
       "      <td>188.0</td>\n",
       "    </tr>\n",
       "  </tbody>\n",
       "</table>\n",
       "</div>"
      ],
      "text/plain": [
       "         date  Deaths  Number of patients hospitalized with COVID-19  \\\n",
       "56 2020-04-02    53.0                                          405.0   \n",
       "57 2020-04-03    67.0                                          462.0   \n",
       "58 2020-04-04    94.0                                          506.0   \n",
       "59 2020-04-05   119.0                                          523.0   \n",
       "60 2020-04-06   132.0                                          589.0   \n",
       "61 2020-04-07   153.0                                          614.0   \n",
       "62 2020-04-08   174.0                                          605.0   \n",
       "63 2020-04-09   200.0                                          632.0   \n",
       "64 2020-04-10   222.0                                          673.0   \n",
       "65 2020-04-11   253.0                                          691.0   \n",
       "66 2020-04-12   274.0                                          738.0   \n",
       "67 2020-04-13   291.0                                          760.0   \n",
       "68 2020-04-14   334.0                                          769.0   \n",
       "69 2020-04-15   385.0                                          795.0   \n",
       "\n",
       "    Number of patients in ICU with COVID-19  \\\n",
       "56                                    167.0   \n",
       "57                                    194.0   \n",
       "58                                    196.0   \n",
       "59                                    200.0   \n",
       "60                                    216.0   \n",
       "61                                    233.0   \n",
       "62                                    246.0   \n",
       "63                                    264.0   \n",
       "64                                    260.0   \n",
       "65                                    257.0   \n",
       "66                                    261.0   \n",
       "67                                    263.0   \n",
       "68                                    255.0   \n",
       "69                                    254.0   \n",
       "\n",
       "    Number of patients in ICU on a ventilator with COVID-19  \n",
       "56                                              112.0        \n",
       "57                                              140.0        \n",
       "58                                              152.0        \n",
       "59                                              154.0        \n",
       "60                                              160.0        \n",
       "61                                              187.0        \n",
       "62                                              195.0        \n",
       "63                                              214.0        \n",
       "64                                              217.0        \n",
       "65                                              215.0        \n",
       "66                                              196.0        \n",
       "67                                              203.0        \n",
       "68                                              199.0        \n",
       "69                                              188.0        "
      ]
     },
     "execution_count": 12,
     "metadata": {},
     "output_type": "execute_result"
    }
   ],
   "source": [
    "df1"
   ]
  },
  {
   "cell_type": "code",
   "execution_count": 13,
   "metadata": {},
   "outputs": [
    {
     "data": {
      "text/plain": [
       "[Text(0, 0, '2020-04-02'),\n",
       " Text(0, 0, '2020-04-03'),\n",
       " Text(0, 0, '2020-04-04'),\n",
       " Text(0, 0, '2020-04-05'),\n",
       " Text(0, 0, '2020-04-06'),\n",
       " Text(0, 0, '2020-04-07'),\n",
       " Text(0, 0, '2020-04-08'),\n",
       " Text(0, 0, '2020-04-09'),\n",
       " Text(0, 0, '2020-04-10'),\n",
       " Text(0, 0, '2020-04-11'),\n",
       " Text(0, 0, '2020-04-12'),\n",
       " Text(0, 0, '2020-04-13'),\n",
       " Text(0, 0, '2020-04-14'),\n",
       " Text(0, 0, '2020-04-15')]"
      ]
     },
     "execution_count": 13,
     "metadata": {},
     "output_type": "execute_result"
    },
    {
     "data": {
      "image/png": "[encoded data removed]",
      "text/plain": [
       "<Figure size 864x576 with 1 Axes>"
      ]
     },
     "metadata": {
      "needs_background": "light"
     },
     "output_type": "display_data"
    }
   ],
   "source": [
    "fig, ax=plt.subplots(figsize=(12,8))\n",
    "\n",
    "ax.bar(df1['date'], df1['Number of patients in ICU with COVID-19'],  alpha=0.4, label='ICU')\n",
    "ax.bar(df1['date'], df1['Number of patients in ICU on a ventilator with COVID-19'], bottom=df1['Number of patients in ICU with COVID-19'], alpha=.4, label='on ventilator')\n",
    "ax.bar(df1['date'], df1['Number of patients hospitalized with COVID-19'], bottom=df1['Number of patients in ICU with COVID-19']+df1['Number of patients in ICU on a ventilator with COVID-19'], alpha=.4, label='hospitalized')\n",
    "\n",
    "#['in ICU', 'in ICU on a ventilator', 'hospitalized']\n",
    "ax.legend()\n",
    "ax.set_xlabel('Date')\n",
    "ax.set_ylabel('Number of patients with COVID-19')\n",
    "ax.set_xticks(df1.date)\n",
    "ax.set_xticklabels(df1.date.dt.strftime('%Y-%m-%d'),rotation=90)"
   ]
  },
  {
   "cell_type": "code",
   "execution_count": null,
   "metadata": {},
   "outputs": [],
   "source": []
  },
  {
   "cell_type": "code",
   "execution_count": 15,
   "metadata": {},
   "outputs": [],
   "source": [
    "#Confirmed positive cases of COVID19 in Ontario based on gender and age\n",
    "url2='https://data.ontario.ca/dataset/f4112442-bdc8-45d2-be3c-12efae72fb27/resource/455fd63b-603d-4608-8216-7d8647f43350/download/conposcovidloc.csv'\n",
    "df2=pd.read_csv(url2)"
   ]
  },
  {
   "cell_type": "code",
   "execution_count": 16,
   "metadata": {},
   "outputs": [
    {
     "name": "stdout",
     "output_type": "stream",
     "text": [
      "<class 'pandas.core.frame.DataFrame'>\n",
      "RangeIndex: 8447 entries, 0 to 8446\n",
      "Data columns (total 13 columns):\n",
      " #   Column                     Non-Null Count  Dtype  \n",
      "---  ------                     --------------  -----  \n",
      " 0   ROW_ID                     8447 non-null   int64  \n",
      " 1   ACCURATE_EPISODE_DATE      8447 non-null   object \n",
      " 2   Age_Group                  8447 non-null   object \n",
      " 3   CLIENT_GENDER              8447 non-null   object \n",
      " 4   CASE_ACQUISITIONINFO       8447 non-null   object \n",
      " 5   OUTCOME1                   8447 non-null   object \n",
      " 6   Reporting_PHU              8447 non-null   object \n",
      " 7   Reporting_PHU_Address      8447 non-null   object \n",
      " 8   Reporting_PHU_City         8447 non-null   object \n",
      " 9   Reporting_PHU_Postal_Code  8447 non-null   object \n",
      " 10  Reporting_PHU_Website      8447 non-null   object \n",
      " 11  Reporting_PHU_Latitude     8447 non-null   float64\n",
      " 12  Reporting_PHU_Longitude    8447 non-null   float64\n",
      "dtypes: float64(2), int64(1), object(10)\n",
      "memory usage: 858.0+ KB\n"
     ]
    }
   ],
   "source": [
    "df2.info()"
   ]
  },
  {
   "cell_type": "code",
   "execution_count": 17,
   "metadata": {},
   "outputs": [
    {
     "data": {
      "text/html": [
       "<div>\n",
       "<style scoped>\n",
       "    .dataframe tbody tr th:only-of-type {\n",
       "        vertical-align: middle;\n",
       "    }\n",
       "\n",
       "    .dataframe tbody tr th {\n",
       "        vertical-align: top;\n",
       "    }\n",
       "\n",
       "    .dataframe thead th {\n",
       "        text-align: right;\n",
       "    }\n",
       "</style>\n",
       "<table border=\"1\" class=\"dataframe\">\n",
       "  <thead>\n",
       "    <tr style=\"text-align: right;\">\n",
       "      <th></th>\n",
       "      <th>ROW_ID</th>\n",
       "      <th>ACCURATE_EPISODE_DATE</th>\n",
       "      <th>Age_Group</th>\n",
       "      <th>CLIENT_GENDER</th>\n",
       "      <th>CASE_ACQUISITIONINFO</th>\n",
       "      <th>OUTCOME1</th>\n",
       "      <th>Reporting_PHU</th>\n",
       "      <th>Reporting_PHU_Address</th>\n",
       "      <th>Reporting_PHU_City</th>\n",
       "      <th>Reporting_PHU_Postal_Code</th>\n",
       "      <th>Reporting_PHU_Website</th>\n",
       "      <th>Reporting_PHU_Latitude</th>\n",
       "      <th>Reporting_PHU_Longitude</th>\n",
       "    </tr>\n",
       "  </thead>\n",
       "  <tbody>\n",
       "    <tr>\n",
       "      <th>7908</th>\n",
       "      <td>7909</td>\n",
       "      <td>2020-03-12</td>\n",
       "      <td>20s</td>\n",
       "      <td>MALE</td>\n",
       "      <td>Travel-Related</td>\n",
       "      <td>Resolved</td>\n",
       "      <td>Toronto Public Health</td>\n",
       "      <td>277 Victoria Street, 5th Floor</td>\n",
       "      <td>Toronto</td>\n",
       "      <td>M5B 1W2</td>\n",
       "      <td>www.toronto.ca/community-people/health-wellnes...</td>\n",
       "      <td>43.656591</td>\n",
       "      <td>-79.379358</td>\n",
       "    </tr>\n",
       "    <tr>\n",
       "      <th>174</th>\n",
       "      <td>175</td>\n",
       "      <td>2020-03-18</td>\n",
       "      <td>30s</td>\n",
       "      <td>MALE</td>\n",
       "      <td>Information pending</td>\n",
       "      <td>Resolved</td>\n",
       "      <td>Toronto Public Health</td>\n",
       "      <td>277 Victoria Street, 5th Floor</td>\n",
       "      <td>Toronto</td>\n",
       "      <td>M5B 1W2</td>\n",
       "      <td>www.toronto.ca/community-people/health-wellnes...</td>\n",
       "      <td>43.656591</td>\n",
       "      <td>-79.379358</td>\n",
       "    </tr>\n",
       "    <tr>\n",
       "      <th>7407</th>\n",
       "      <td>7408</td>\n",
       "      <td>2020-03-16</td>\n",
       "      <td>60s</td>\n",
       "      <td>MALE</td>\n",
       "      <td>Contact of a confirmed case</td>\n",
       "      <td>Resolved</td>\n",
       "      <td>Simcoe Muskoka District Health Unit</td>\n",
       "      <td>15 Sperling Drive</td>\n",
       "      <td>Barrie</td>\n",
       "      <td>L4M 6K9</td>\n",
       "      <td>www.simcoemuskokahealth.org</td>\n",
       "      <td>44.410713</td>\n",
       "      <td>-79.686306</td>\n",
       "    </tr>\n",
       "  </tbody>\n",
       "</table>\n",
       "</div>"
      ],
      "text/plain": [
       "      ROW_ID ACCURATE_EPISODE_DATE Age_Group CLIENT_GENDER  \\\n",
       "7908    7909            2020-03-12       20s          MALE   \n",
       "174      175            2020-03-18       30s          MALE   \n",
       "7407    7408            2020-03-16       60s          MALE   \n",
       "\n",
       "             CASE_ACQUISITIONINFO  OUTCOME1  \\\n",
       "7908               Travel-Related  Resolved   \n",
       "174           Information pending  Resolved   \n",
       "7407  Contact of a confirmed case  Resolved   \n",
       "\n",
       "                            Reporting_PHU           Reporting_PHU_Address  \\\n",
       "7908                Toronto Public Health  277 Victoria Street, 5th Floor   \n",
       "174                 Toronto Public Health  277 Victoria Street, 5th Floor   \n",
       "7407  Simcoe Muskoka District Health Unit               15 Sperling Drive   \n",
       "\n",
       "     Reporting_PHU_City Reporting_PHU_Postal_Code  \\\n",
       "7908            Toronto                   M5B 1W2   \n",
       "174             Toronto                   M5B 1W2   \n",
       "7407             Barrie                   L4M 6K9   \n",
       "\n",
       "                                  Reporting_PHU_Website  \\\n",
       "7908  www.toronto.ca/community-people/health-wellnes...   \n",
       "174   www.toronto.ca/community-people/health-wellnes...   \n",
       "7407                        www.simcoemuskokahealth.org   \n",
       "\n",
       "      Reporting_PHU_Latitude  Reporting_PHU_Longitude  \n",
       "7908               43.656591               -79.379358  \n",
       "174                43.656591               -79.379358  \n",
       "7407               44.410713               -79.686306  "
      ]
     },
     "execution_count": 17,
     "metadata": {},
     "output_type": "execute_result"
    }
   ],
   "source": [
    "df2.sample(3)"
   ]
  },
  {
   "cell_type": "code",
   "execution_count": 18,
   "metadata": {},
   "outputs": [],
   "source": [
    "# Change the Reported Date column name to date and CLIENT GENDER column name to Gender\n",
    "df2.rename(columns={'ACCURATE_EPISODE_DATE':'date', 'CLIENT_GENDER':'Gender'}, inplace=True)\n",
    "\n",
    "#Change the 'date' object to datetime\n",
    "df2.date = pd.to_datetime(df2.date)\n",
    "\n",
    "df2.Gender= df2.Gender.astype('category')\n",
    "df2.Age_Group= df2.Age_Group.astype('category')\n"
   ]
  },
  {
   "cell_type": "code",
   "execution_count": 19,
   "metadata": {},
   "outputs": [
    {
     "data": {
      "text/html": [
       "<div>\n",
       "<style scoped>\n",
       "    .dataframe tbody tr th:only-of-type {\n",
       "        vertical-align: middle;\n",
       "    }\n",
       "\n",
       "    .dataframe tbody tr th {\n",
       "        vertical-align: top;\n",
       "    }\n",
       "\n",
       "    .dataframe thead th {\n",
       "        text-align: right;\n",
       "    }\n",
       "</style>\n",
       "<table border=\"1\" class=\"dataframe\">\n",
       "  <thead>\n",
       "    <tr style=\"text-align: right;\">\n",
       "      <th></th>\n",
       "      <th>ROW_ID</th>\n",
       "      <th>date</th>\n",
       "      <th>Age_Group</th>\n",
       "      <th>Gender</th>\n",
       "      <th>CASE_ACQUISITIONINFO</th>\n",
       "      <th>OUTCOME1</th>\n",
       "      <th>Reporting_PHU</th>\n",
       "      <th>Reporting_PHU_Address</th>\n",
       "      <th>Reporting_PHU_City</th>\n",
       "      <th>Reporting_PHU_Postal_Code</th>\n",
       "      <th>Reporting_PHU_Website</th>\n",
       "      <th>Reporting_PHU_Latitude</th>\n",
       "      <th>Reporting_PHU_Longitude</th>\n",
       "    </tr>\n",
       "  </thead>\n",
       "  <tbody>\n",
       "    <tr>\n",
       "      <th>846</th>\n",
       "      <td>847</td>\n",
       "      <td>2020-01-21</td>\n",
       "      <td>50s</td>\n",
       "      <td>MALE</td>\n",
       "      <td>Travel-Related</td>\n",
       "      <td>Resolved</td>\n",
       "      <td>Toronto Public Health</td>\n",
       "      <td>277 Victoria Street, 5th Floor</td>\n",
       "      <td>Toronto</td>\n",
       "      <td>M5B 1W2</td>\n",
       "      <td>www.toronto.ca/community-people/health-wellnes...</td>\n",
       "      <td>43.656591</td>\n",
       "      <td>-79.379358</td>\n",
       "    </tr>\n",
       "    <tr>\n",
       "      <th>845</th>\n",
       "      <td>846</td>\n",
       "      <td>2020-01-22</td>\n",
       "      <td>50s</td>\n",
       "      <td>FEMALE</td>\n",
       "      <td>Travel-Related</td>\n",
       "      <td>Resolved</td>\n",
       "      <td>Toronto Public Health</td>\n",
       "      <td>277 Victoria Street, 5th Floor</td>\n",
       "      <td>Toronto</td>\n",
       "      <td>M5B 1W2</td>\n",
       "      <td>www.toronto.ca/community-people/health-wellnes...</td>\n",
       "      <td>43.656591</td>\n",
       "      <td>-79.379358</td>\n",
       "    </tr>\n",
       "    <tr>\n",
       "      <th>847</th>\n",
       "      <td>848</td>\n",
       "      <td>2020-01-24</td>\n",
       "      <td>20s</td>\n",
       "      <td>FEMALE</td>\n",
       "      <td>Travel-Related</td>\n",
       "      <td>Resolved</td>\n",
       "      <td>Middlesex-London Health Unit</td>\n",
       "      <td>50 King Street</td>\n",
       "      <td>London</td>\n",
       "      <td>N6A 5L7</td>\n",
       "      <td>www.healthunit.com</td>\n",
       "      <td>42.981468</td>\n",
       "      <td>-81.254016</td>\n",
       "    </tr>\n",
       "    <tr>\n",
       "      <th>63</th>\n",
       "      <td>64</td>\n",
       "      <td>2020-02-01</td>\n",
       "      <td>70s</td>\n",
       "      <td>FEMALE</td>\n",
       "      <td>Neither</td>\n",
       "      <td>Not Resolved</td>\n",
       "      <td>Region of Waterloo, Public Health</td>\n",
       "      <td>99 Regina Street South</td>\n",
       "      <td>Waterloo</td>\n",
       "      <td>N2J 4V3</td>\n",
       "      <td>www.chd.region.waterloo.on.ca</td>\n",
       "      <td>43.462876</td>\n",
       "      <td>-80.520913</td>\n",
       "    </tr>\n",
       "    <tr>\n",
       "      <th>848</th>\n",
       "      <td>849</td>\n",
       "      <td>2020-02-05</td>\n",
       "      <td>20s</td>\n",
       "      <td>FEMALE</td>\n",
       "      <td>Travel-Related</td>\n",
       "      <td>Resolved</td>\n",
       "      <td>Toronto Public Health</td>\n",
       "      <td>277 Victoria Street, 5th Floor</td>\n",
       "      <td>Toronto</td>\n",
       "      <td>M5B 1W2</td>\n",
       "      <td>www.toronto.ca/community-people/health-wellnes...</td>\n",
       "      <td>43.656591</td>\n",
       "      <td>-79.379358</td>\n",
       "    </tr>\n",
       "    <tr>\n",
       "      <th>...</th>\n",
       "      <td>...</td>\n",
       "      <td>...</td>\n",
       "      <td>...</td>\n",
       "      <td>...</td>\n",
       "      <td>...</td>\n",
       "      <td>...</td>\n",
       "      <td>...</td>\n",
       "      <td>...</td>\n",
       "      <td>...</td>\n",
       "      <td>...</td>\n",
       "      <td>...</td>\n",
       "      <td>...</td>\n",
       "      <td>...</td>\n",
       "    </tr>\n",
       "    <tr>\n",
       "      <th>5874</th>\n",
       "      <td>5875</td>\n",
       "      <td>2020-04-14</td>\n",
       "      <td>80s</td>\n",
       "      <td>MALE</td>\n",
       "      <td>Information pending</td>\n",
       "      <td>Not Resolved</td>\n",
       "      <td>Windsor-Essex County Health Unit</td>\n",
       "      <td>1005 Ouellette Avenue</td>\n",
       "      <td>Windsor</td>\n",
       "      <td>N9A 4J8</td>\n",
       "      <td>www.wechu.org</td>\n",
       "      <td>42.308796</td>\n",
       "      <td>-83.033670</td>\n",
       "    </tr>\n",
       "    <tr>\n",
       "      <th>7962</th>\n",
       "      <td>7963</td>\n",
       "      <td>2020-04-14</td>\n",
       "      <td>60s</td>\n",
       "      <td>FEMALE</td>\n",
       "      <td>Information pending</td>\n",
       "      <td>Not Resolved</td>\n",
       "      <td>Windsor-Essex County Health Unit</td>\n",
       "      <td>1005 Ouellette Avenue</td>\n",
       "      <td>Windsor</td>\n",
       "      <td>N9A 4J8</td>\n",
       "      <td>www.wechu.org</td>\n",
       "      <td>42.308796</td>\n",
       "      <td>-83.033670</td>\n",
       "    </tr>\n",
       "    <tr>\n",
       "      <th>5066</th>\n",
       "      <td>5067</td>\n",
       "      <td>2020-04-14</td>\n",
       "      <td>30s</td>\n",
       "      <td>FEMALE</td>\n",
       "      <td>Information pending</td>\n",
       "      <td>Not Resolved</td>\n",
       "      <td>Leeds, Grenville and Lanark District Health Unit</td>\n",
       "      <td>458 Laurier Boulevard</td>\n",
       "      <td>Brockville</td>\n",
       "      <td>K6V 7A3</td>\n",
       "      <td>www.healthunit.org</td>\n",
       "      <td>44.615843</td>\n",
       "      <td>-75.702833</td>\n",
       "    </tr>\n",
       "    <tr>\n",
       "      <th>5056</th>\n",
       "      <td>5057</td>\n",
       "      <td>2020-04-14</td>\n",
       "      <td>50s</td>\n",
       "      <td>FEMALE</td>\n",
       "      <td>Information pending</td>\n",
       "      <td>Not Resolved</td>\n",
       "      <td>Durham Region Health Department</td>\n",
       "      <td>605 Rossland Road East</td>\n",
       "      <td>Whitby</td>\n",
       "      <td>L1N 0B2</td>\n",
       "      <td>www.durham.ca/en/health-and-wellness/health-an...</td>\n",
       "      <td>43.898605</td>\n",
       "      <td>-78.940341</td>\n",
       "    </tr>\n",
       "    <tr>\n",
       "      <th>5048</th>\n",
       "      <td>5049</td>\n",
       "      <td>2020-04-14</td>\n",
       "      <td>30s</td>\n",
       "      <td>FEMALE</td>\n",
       "      <td>Information pending</td>\n",
       "      <td>Not Resolved</td>\n",
       "      <td>Peel Public Health</td>\n",
       "      <td>7120 Hurontario Street</td>\n",
       "      <td>Mississauga</td>\n",
       "      <td>L5W 1N4</td>\n",
       "      <td>www.peelregion.ca/health/</td>\n",
       "      <td>43.647471</td>\n",
       "      <td>-79.708893</td>\n",
       "    </tr>\n",
       "  </tbody>\n",
       "</table>\n",
       "<p>8447 rows × 13 columns</p>\n",
       "</div>"
      ],
      "text/plain": [
       "      ROW_ID       date Age_Group  Gender CASE_ACQUISITIONINFO      OUTCOME1  \\\n",
       "846      847 2020-01-21       50s    MALE       Travel-Related      Resolved   \n",
       "845      846 2020-01-22       50s  FEMALE       Travel-Related      Resolved   \n",
       "847      848 2020-01-24       20s  FEMALE       Travel-Related      Resolved   \n",
       "63        64 2020-02-01       70s  FEMALE              Neither  Not Resolved   \n",
       "848      849 2020-02-05       20s  FEMALE       Travel-Related      Resolved   \n",
       "...      ...        ...       ...     ...                  ...           ...   \n",
       "5874    5875 2020-04-14       80s    MALE  Information pending  Not Resolved   \n",
       "7962    7963 2020-04-14       60s  FEMALE  Information pending  Not Resolved   \n",
       "5066    5067 2020-04-14       30s  FEMALE  Information pending  Not Resolved   \n",
       "5056    5057 2020-04-14       50s  FEMALE  Information pending  Not Resolved   \n",
       "5048    5049 2020-04-14       30s  FEMALE  Information pending  Not Resolved   \n",
       "\n",
       "                                         Reporting_PHU  \\\n",
       "846                              Toronto Public Health   \n",
       "845                              Toronto Public Health   \n",
       "847                       Middlesex-London Health Unit   \n",
       "63                   Region of Waterloo, Public Health   \n",
       "848                              Toronto Public Health   \n",
       "...                                                ...   \n",
       "5874                  Windsor-Essex County Health Unit   \n",
       "7962                  Windsor-Essex County Health Unit   \n",
       "5066  Leeds, Grenville and Lanark District Health Unit   \n",
       "5056                   Durham Region Health Department   \n",
       "5048                                Peel Public Health   \n",
       "\n",
       "               Reporting_PHU_Address Reporting_PHU_City  \\\n",
       "846   277 Victoria Street, 5th Floor            Toronto   \n",
       "845   277 Victoria Street, 5th Floor            Toronto   \n",
       "847                   50 King Street             London   \n",
       "63            99 Regina Street South           Waterloo   \n",
       "848   277 Victoria Street, 5th Floor            Toronto   \n",
       "...                              ...                ...   \n",
       "5874           1005 Ouellette Avenue            Windsor   \n",
       "7962           1005 Ouellette Avenue            Windsor   \n",
       "5066           458 Laurier Boulevard         Brockville   \n",
       "5056          605 Rossland Road East             Whitby   \n",
       "5048          7120 Hurontario Street        Mississauga   \n",
       "\n",
       "     Reporting_PHU_Postal_Code  \\\n",
       "846                    M5B 1W2   \n",
       "845                    M5B 1W2   \n",
       "847                    N6A 5L7   \n",
       "63                     N2J 4V3   \n",
       "848                    M5B 1W2   \n",
       "...                        ...   \n",
       "5874                   N9A 4J8   \n",
       "7962                   N9A 4J8   \n",
       "5066                   K6V 7A3   \n",
       "5056                   L1N 0B2   \n",
       "5048                   L5W 1N4   \n",
       "\n",
       "                                  Reporting_PHU_Website  \\\n",
       "846   www.toronto.ca/community-people/health-wellnes...   \n",
       "845   www.toronto.ca/community-people/health-wellnes...   \n",
       "847                                  www.healthunit.com   \n",
       "63                        www.chd.region.waterloo.on.ca   \n",
       "848   www.toronto.ca/community-people/health-wellnes...   \n",
       "...                                                 ...   \n",
       "5874                                      www.wechu.org   \n",
       "7962                                      www.wechu.org   \n",
       "5066                                 www.healthunit.org   \n",
       "5056  www.durham.ca/en/health-and-wellness/health-an...   \n",
       "5048                          www.peelregion.ca/health/   \n",
       "\n",
       "      Reporting_PHU_Latitude  Reporting_PHU_Longitude  \n",
       "846                43.656591               -79.379358  \n",
       "845                43.656591               -79.379358  \n",
       "847                42.981468               -81.254016  \n",
       "63                 43.462876               -80.520913  \n",
       "848                43.656591               -79.379358  \n",
       "...                      ...                      ...  \n",
       "5874               42.308796               -83.033670  \n",
       "7962               42.308796               -83.033670  \n",
       "5066               44.615843               -75.702833  \n",
       "5056               43.898605               -78.940341  \n",
       "5048               43.647471               -79.708893  \n",
       "\n",
       "[8447 rows x 13 columns]"
      ]
     },
     "execution_count": 19,
     "metadata": {},
     "output_type": "execute_result"
    }
   ],
   "source": [
    "df2.sort_values(by='date')"
   ]
  },
  {
   "cell_type": "code",
   "execution_count": 20,
   "metadata": {},
   "outputs": [
    {
     "data": {
      "text/plain": [
       "Not Resolved    4160\n",
       "Resolved        3902\n",
       "Fatal            385\n",
       "Name: OUTCOME1, dtype: int64"
      ]
     },
     "execution_count": 20,
     "metadata": {},
     "output_type": "execute_result"
    }
   ],
   "source": [
    "df2.OUTCOME1.value_counts()"
   ]
  },
  {
   "cell_type": "code",
   "execution_count": 21,
   "metadata": {},
   "outputs": [
    {
     "data": {
      "text/plain": [
       "FEMALE         0.558778\n",
       "MALE           0.435539\n",
       "UNKNOWN        0.005446\n",
       "TRANSGENDER    0.000118\n",
       "OTHER          0.000118\n",
       "Name: Gender, dtype: float64"
      ]
     },
     "execution_count": 21,
     "metadata": {},
     "output_type": "execute_result"
    }
   ],
   "source": [
    "# percent of confirmed cases based on gender\n",
    "df2.Gender.value_counts(normalize=True)"
   ]
  },
  {
   "cell_type": "code",
   "execution_count": 22,
   "metadata": {},
   "outputs": [
    {
     "data": {
      "text/plain": [
       "FEMALE         4720\n",
       "MALE           3679\n",
       "UNKNOWN          46\n",
       "TRANSGENDER       1\n",
       "OTHER             1\n",
       "Name: Gender, dtype: int64"
      ]
     },
     "execution_count": 22,
     "metadata": {},
     "output_type": "execute_result"
    }
   ],
   "source": [
    "# confirmed cases based on gender\n",
    "df2.Gender.value_counts()"
   ]
  },
  {
   "cell_type": "code",
   "execution_count": 23,
   "metadata": {},
   "outputs": [
    {
     "data": {
      "text/html": [
       "<div>\n",
       "<style scoped>\n",
       "    .dataframe tbody tr th:only-of-type {\n",
       "        vertical-align: middle;\n",
       "    }\n",
       "\n",
       "    .dataframe tbody tr th {\n",
       "        vertical-align: top;\n",
       "    }\n",
       "\n",
       "    .dataframe thead th {\n",
       "        text-align: right;\n",
       "    }\n",
       "</style>\n",
       "<table border=\"1\" class=\"dataframe\">\n",
       "  <thead>\n",
       "    <tr style=\"text-align: right;\">\n",
       "      <th></th>\n",
       "      <th>date</th>\n",
       "      <th>Age_Group</th>\n",
       "      <th>Gender</th>\n",
       "    </tr>\n",
       "  </thead>\n",
       "  <tbody>\n",
       "    <tr>\n",
       "      <th>1768</th>\n",
       "      <td>2020-03-01</td>\n",
       "      <td>70s</td>\n",
       "      <td>FEMALE</td>\n",
       "    </tr>\n",
       "    <tr>\n",
       "      <th>4391</th>\n",
       "      <td>2020-03-04</td>\n",
       "      <td>50s</td>\n",
       "      <td>MALE</td>\n",
       "    </tr>\n",
       "    <tr>\n",
       "      <th>2154</th>\n",
       "      <td>2020-03-05</td>\n",
       "      <td>80s</td>\n",
       "      <td>MALE</td>\n",
       "    </tr>\n",
       "    <tr>\n",
       "      <th>805</th>\n",
       "      <td>2020-03-06</td>\n",
       "      <td>80s</td>\n",
       "      <td>MALE</td>\n",
       "    </tr>\n",
       "    <tr>\n",
       "      <th>2431</th>\n",
       "      <td>2020-03-06</td>\n",
       "      <td>70s</td>\n",
       "      <td>MALE</td>\n",
       "    </tr>\n",
       "    <tr>\n",
       "      <th>...</th>\n",
       "      <td>...</td>\n",
       "      <td>...</td>\n",
       "      <td>...</td>\n",
       "    </tr>\n",
       "    <tr>\n",
       "      <th>1379</th>\n",
       "      <td>2020-04-10</td>\n",
       "      <td>80s</td>\n",
       "      <td>FEMALE</td>\n",
       "    </tr>\n",
       "    <tr>\n",
       "      <th>7731</th>\n",
       "      <td>2020-04-11</td>\n",
       "      <td>90s</td>\n",
       "      <td>MALE</td>\n",
       "    </tr>\n",
       "    <tr>\n",
       "      <th>2973</th>\n",
       "      <td>2020-04-11</td>\n",
       "      <td>90s</td>\n",
       "      <td>FEMALE</td>\n",
       "    </tr>\n",
       "    <tr>\n",
       "      <th>1603</th>\n",
       "      <td>2020-04-12</td>\n",
       "      <td>50s</td>\n",
       "      <td>MALE</td>\n",
       "    </tr>\n",
       "    <tr>\n",
       "      <th>4595</th>\n",
       "      <td>2020-04-12</td>\n",
       "      <td>90s</td>\n",
       "      <td>FEMALE</td>\n",
       "    </tr>\n",
       "  </tbody>\n",
       "</table>\n",
       "<p>385 rows × 3 columns</p>\n",
       "</div>"
      ],
      "text/plain": [
       "           date Age_Group  Gender\n",
       "1768 2020-03-01       70s  FEMALE\n",
       "4391 2020-03-04       50s    MALE\n",
       "2154 2020-03-05       80s    MALE\n",
       "805  2020-03-06       80s    MALE\n",
       "2431 2020-03-06       70s    MALE\n",
       "...         ...       ...     ...\n",
       "1379 2020-04-10       80s  FEMALE\n",
       "7731 2020-04-11       90s    MALE\n",
       "2973 2020-04-11       90s  FEMALE\n",
       "1603 2020-04-12       50s    MALE\n",
       "4595 2020-04-12       90s  FEMALE\n",
       "\n",
       "[385 rows x 3 columns]"
      ]
     },
     "execution_count": 23,
     "metadata": {},
     "output_type": "execute_result"
    }
   ],
   "source": [
    "# Deceased cases\n",
    "Deceased=df2[df2.OUTCOME1=='Fatal'][['date','Age_Group','Gender']].sort_values('date')\n",
    "Deceased"
   ]
  },
  {
   "cell_type": "code",
   "execution_count": 24,
   "metadata": {},
   "outputs": [
    {
     "data": {
      "text/plain": [
       "MALE           0.506494\n",
       "FEMALE         0.480519\n",
       "UNKNOWN        0.012987\n",
       "TRANSGENDER    0.000000\n",
       "OTHER          0.000000\n",
       "Name: Gender, dtype: float64"
      ]
     },
     "execution_count": 24,
     "metadata": {},
     "output_type": "execute_result"
    }
   ],
   "source": [
    "Deceased.Gender.value_counts(normalize=True)"
   ]
  },
  {
   "cell_type": "code",
   "execution_count": 25,
   "metadata": {},
   "outputs": [
    {
     "data": {
      "text/plain": [
       "80s        0.353247\n",
       "90s        0.288312\n",
       "70s        0.223377\n",
       "60s        0.075325\n",
       "50s        0.038961\n",
       "40s        0.018182\n",
       "30s        0.002597\n",
       "Unknown    0.000000\n",
       "<20        0.000000\n",
       "20s        0.000000\n",
       "Name: Age_Group, dtype: float64"
      ]
     },
     "execution_count": 25,
     "metadata": {},
     "output_type": "execute_result"
    }
   ],
   "source": [
    "# Deceased age group\n",
    "Deceased.Age_Group.value_counts(normalize=True)"
   ]
  },
  {
   "cell_type": "code",
   "execution_count": 26,
   "metadata": {
    "scrolled": true
   },
   "outputs": [
    {
     "data": {
      "application/vnd.plotly.v1+json": {
       "config": {
        "plotlyServerURL": "https://plot.ly"
       },
       "data": [
        {
         "alignmentgroup": "True",
         "bingroup": "x",
         "hoverlabel": {
          "namelength": 0
         },
         "hovertemplate": "date=%{x}<br>count=%{y}",
         "legendgroup": "",
         "marker": {
          "color": "#636efa"
         },
         "name": "",
         "offsetgroup": "",
         "orientation": "v",
         "showlegend": false,
         "type": "histogram",
         "x": [
          "2020-03-01T00:00:00",
          "2020-03-04T00:00:00",
          "2020-03-05T00:00:00",
          "2020-03-06T00:00:00",
          "2020-03-06T00:00:00",
          "2020-03-07T00:00:00",
          "2020-03-07T00:00:00",
          "2020-03-08T00:00:00",
          "2020-03-09T00:00:00",
          "2020-03-10T00:00:00",
          "2020-03-10T00:00:00",
          "2020-03-11T00:00:00",
          "2020-03-12T00:00:00",
          "2020-03-13T00:00:00",
          "2020-03-13T00:00:00",
          "2020-03-14T00:00:00",
          "2020-03-14T00:00:00",
          "2020-03-14T00:00:00",
          "2020-03-14T00:00:00",
          "2020-03-14T00:00:00",
          "2020-03-14T00:00:00",
          "2020-03-15T00:00:00",
          "2020-03-15T00:00:00",
          "2020-03-15T00:00:00",
          "2020-03-15T00:00:00",
          "2020-03-15T00:00:00",
          "2020-03-15T00:00:00",
          "2020-03-15T00:00:00",
          "2020-03-16T00:00:00",
          "2020-03-16T00:00:00",
          "2020-03-16T00:00:00",
          "2020-03-16T00:00:00",
          "2020-03-16T00:00:00",
          "2020-03-16T00:00:00",
          "2020-03-17T00:00:00",
          "2020-03-17T00:00:00",
          "2020-03-17T00:00:00",
          "2020-03-17T00:00:00",
          "2020-03-17T00:00:00",
          "2020-03-17T00:00:00",
          "2020-03-17T00:00:00",
          "2020-03-18T00:00:00",
          "2020-03-18T00:00:00",
          "2020-03-18T00:00:00",
          "2020-03-18T00:00:00",
          "2020-03-18T00:00:00",
          "2020-03-18T00:00:00",
          "2020-03-18T00:00:00",
          "2020-03-18T00:00:00",
          "2020-03-18T00:00:00",
          "2020-03-18T00:00:00",
          "2020-03-19T00:00:00",
          "2020-03-19T00:00:00",
          "2020-03-19T00:00:00",
          "2020-03-19T00:00:00",
          "2020-03-19T00:00:00",
          "2020-03-19T00:00:00",
          "2020-03-19T00:00:00",
          "2020-03-19T00:00:00",
          "2020-03-20T00:00:00",
          "2020-03-20T00:00:00",
          "2020-03-20T00:00:00",
          "2020-03-20T00:00:00",
          "2020-03-20T00:00:00",
          "2020-03-20T00:00:00",
          "2020-03-20T00:00:00",
          "2020-03-20T00:00:00",
          "2020-03-20T00:00:00",
          "2020-03-20T00:00:00",
          "2020-03-20T00:00:00",
          "2020-03-20T00:00:00",
          "2020-03-20T00:00:00",
          "2020-03-21T00:00:00",
          "2020-03-21T00:00:00",
          "2020-03-21T00:00:00",
          "2020-03-21T00:00:00",
          "2020-03-21T00:00:00",
          "2020-03-21T00:00:00",
          "2020-03-21T00:00:00",
          "2020-03-22T00:00:00",
          "2020-03-22T00:00:00",
          "2020-03-22T00:00:00",
          "2020-03-22T00:00:00",
          "2020-03-22T00:00:00",
          "2020-03-22T00:00:00",
          "2020-03-22T00:00:00",
          "2020-03-22T00:00:00",
          "2020-03-22T00:00:00",
          "2020-03-22T00:00:00",
          "2020-03-22T00:00:00",
          "2020-03-22T00:00:00",
          "2020-03-23T00:00:00",
          "2020-03-23T00:00:00",
          "2020-03-23T00:00:00",
          "2020-03-23T00:00:00",
          "2020-03-23T00:00:00",
          "2020-03-23T00:00:00",
          "2020-03-23T00:00:00",
          "2020-03-23T00:00:00",
          "2020-03-23T00:00:00",
          "2020-03-23T00:00:00",
          "2020-03-23T00:00:00",
          "2020-03-23T00:00:00",
          "2020-03-23T00:00:00",
          "2020-03-24T00:00:00",
          "2020-03-24T00:00:00",
          "2020-03-24T00:00:00",
          "2020-03-24T00:00:00",
          "2020-03-24T00:00:00",
          "2020-03-24T00:00:00",
          "2020-03-24T00:00:00",
          "2020-03-24T00:00:00",
          "2020-03-24T00:00:00",
          "2020-03-24T00:00:00",
          "2020-03-25T00:00:00",
          "2020-03-25T00:00:00",
          "2020-03-25T00:00:00",
          "2020-03-25T00:00:00",
          "2020-03-25T00:00:00",
          "2020-03-25T00:00:00",
          "2020-03-26T00:00:00",
          "2020-03-26T00:00:00",
          "2020-03-26T00:00:00",
          "2020-03-26T00:00:00",
          "2020-03-26T00:00:00",
          "2020-03-26T00:00:00",
          "2020-03-26T00:00:00",
          "2020-03-26T00:00:00",
          "2020-03-26T00:00:00",
          "2020-03-26T00:00:00",
          "2020-03-26T00:00:00",
          "2020-03-26T00:00:00",
          "2020-03-26T00:00:00",
          "2020-03-26T00:00:00",
          "2020-03-26T00:00:00",
          "2020-03-26T00:00:00",
          "2020-03-26T00:00:00",
          "2020-03-26T00:00:00",
          "2020-03-26T00:00:00",
          "2020-03-26T00:00:00",
          "2020-03-26T00:00:00",
          "2020-03-26T00:00:00",
          "2020-03-26T00:00:00",
          "2020-03-26T00:00:00",
          "2020-03-26T00:00:00",
          "2020-03-27T00:00:00",
          "2020-03-27T00:00:00",
          "2020-03-27T00:00:00",
          "2020-03-27T00:00:00",
          "2020-03-27T00:00:00",
          "2020-03-27T00:00:00",
          "2020-03-27T00:00:00",
          "2020-03-27T00:00:00",
          "2020-03-27T00:00:00",
          "2020-03-27T00:00:00",
          "2020-03-27T00:00:00",
          "2020-03-27T00:00:00",
          "2020-03-27T00:00:00",
          "2020-03-27T00:00:00",
          "2020-03-27T00:00:00",
          "2020-03-28T00:00:00",
          "2020-03-28T00:00:00",
          "2020-03-28T00:00:00",
          "2020-03-28T00:00:00",
          "2020-03-28T00:00:00",
          "2020-03-28T00:00:00",
          "2020-03-28T00:00:00",
          "2020-03-28T00:00:00",
          "2020-03-28T00:00:00",
          "2020-03-28T00:00:00",
          "2020-03-28T00:00:00",
          "2020-03-28T00:00:00",
          "2020-03-28T00:00:00",
          "2020-03-28T00:00:00",
          "2020-03-29T00:00:00",
          "2020-03-29T00:00:00",
          "2020-03-29T00:00:00",
          "2020-03-29T00:00:00",
          "2020-03-29T00:00:00",
          "2020-03-29T00:00:00",
          "2020-03-29T00:00:00",
          "2020-03-29T00:00:00",
          "2020-03-29T00:00:00",
          "2020-03-29T00:00:00",
          "2020-03-29T00:00:00",
          "2020-03-29T00:00:00",
          "2020-03-29T00:00:00",
          "2020-03-29T00:00:00",
          "2020-03-29T00:00:00",
          "2020-03-29T00:00:00",
          "2020-03-29T00:00:00",
          "2020-03-29T00:00:00",
          "2020-03-29T00:00:00",
          "2020-03-29T00:00:00",
          "2020-03-29T00:00:00",
          "2020-03-30T00:00:00",
          "2020-03-30T00:00:00",
          "2020-03-30T00:00:00",
          "2020-03-30T00:00:00",
          "2020-03-30T00:00:00",
          "2020-03-30T00:00:00",
          "2020-03-30T00:00:00",
          "2020-03-30T00:00:00",
          "2020-03-30T00:00:00",
          "2020-03-30T00:00:00",
          "2020-03-30T00:00:00",
          "2020-03-30T00:00:00",
          "2020-03-30T00:00:00",
          "2020-03-30T00:00:00",
          "2020-03-30T00:00:00",
          "2020-03-31T00:00:00",
          "2020-03-31T00:00:00",
          "2020-03-31T00:00:00",
          "2020-03-31T00:00:00",
          "2020-03-31T00:00:00",
          "2020-03-31T00:00:00",
          "2020-03-31T00:00:00",
          "2020-03-31T00:00:00",
          "2020-03-31T00:00:00",
          "2020-03-31T00:00:00",
          "2020-03-31T00:00:00",
          "2020-04-01T00:00:00",
          "2020-04-01T00:00:00",
          "2020-04-01T00:00:00",
          "2020-04-01T00:00:00",
          "2020-04-01T00:00:00",
          "2020-04-01T00:00:00",
          "2020-04-01T00:00:00",
          "2020-04-01T00:00:00",
          "2020-04-01T00:00:00",
          "2020-04-01T00:00:00",
          "2020-04-01T00:00:00",
          "2020-04-01T00:00:00",
          "2020-04-01T00:00:00",
          "2020-04-01T00:00:00",
          "2020-04-01T00:00:00",
          "2020-04-01T00:00:00",
          "2020-04-01T00:00:00",
          "2020-04-01T00:00:00",
          "2020-04-01T00:00:00",
          "2020-04-01T00:00:00",
          "2020-04-01T00:00:00",
          "2020-04-01T00:00:00",
          "2020-04-01T00:00:00",
          "2020-04-01T00:00:00",
          "2020-04-01T00:00:00",
          "2020-04-01T00:00:00",
          "2020-04-01T00:00:00",
          "2020-04-01T00:00:00",
          "2020-04-01T00:00:00",
          "2020-04-01T00:00:00",
          "2020-04-01T00:00:00",
          "2020-04-01T00:00:00",
          "2020-04-01T00:00:00",
          "2020-04-01T00:00:00",
          "2020-04-01T00:00:00",
          "2020-04-01T00:00:00",
          "2020-04-01T00:00:00",
          "2020-04-01T00:00:00",
          "2020-04-01T00:00:00",
          "2020-04-01T00:00:00",
          "2020-04-01T00:00:00",
          "2020-04-01T00:00:00",
          "2020-04-01T00:00:00",
          "2020-04-02T00:00:00",
          "2020-04-02T00:00:00",
          "2020-04-02T00:00:00",
          "2020-04-02T00:00:00",
          "2020-04-02T00:00:00",
          "2020-04-02T00:00:00",
          "2020-04-02T00:00:00",
          "2020-04-02T00:00:00",
          "2020-04-02T00:00:00",
          "2020-04-02T00:00:00",
          "2020-04-02T00:00:00",
          "2020-04-02T00:00:00",
          "2020-04-02T00:00:00",
          "2020-04-02T00:00:00",
          "2020-04-02T00:00:00",
          "2020-04-02T00:00:00",
          "2020-04-02T00:00:00",
          "2020-04-02T00:00:00",
          "2020-04-03T00:00:00",
          "2020-04-03T00:00:00",
          "2020-04-03T00:00:00",
          "2020-04-03T00:00:00",
          "2020-04-03T00:00:00",
          "2020-04-03T00:00:00",
          "2020-04-03T00:00:00",
          "2020-04-03T00:00:00",
          "2020-04-03T00:00:00",
          "2020-04-03T00:00:00",
          "2020-04-03T00:00:00",
          "2020-04-03T00:00:00",
          "2020-04-03T00:00:00",
          "2020-04-03T00:00:00",
          "2020-04-03T00:00:00",
          "2020-04-03T00:00:00",
          "2020-04-03T00:00:00",
          "2020-04-04T00:00:00",
          "2020-04-04T00:00:00",
          "2020-04-04T00:00:00",
          "2020-04-04T00:00:00",
          "2020-04-04T00:00:00",
          "2020-04-04T00:00:00",
          "2020-04-04T00:00:00",
          "2020-04-04T00:00:00",
          "2020-04-04T00:00:00",
          "2020-04-04T00:00:00",
          "2020-04-04T00:00:00",
          "2020-04-04T00:00:00",
          "2020-04-04T00:00:00",
          "2020-04-04T00:00:00",
          "2020-04-04T00:00:00",
          "2020-04-04T00:00:00",
          "2020-04-04T00:00:00",
          "2020-04-04T00:00:00",
          "2020-04-04T00:00:00",
          "2020-04-05T00:00:00",
          "2020-04-05T00:00:00",
          "2020-04-05T00:00:00",
          "2020-04-05T00:00:00",
          "2020-04-05T00:00:00",
          "2020-04-05T00:00:00",
          "2020-04-05T00:00:00",
          "2020-04-05T00:00:00",
          "2020-04-05T00:00:00",
          "2020-04-05T00:00:00",
          "2020-04-05T00:00:00",
          "2020-04-05T00:00:00",
          "2020-04-05T00:00:00",
          "2020-04-06T00:00:00",
          "2020-04-06T00:00:00",
          "2020-04-06T00:00:00",
          "2020-04-06T00:00:00",
          "2020-04-06T00:00:00",
          "2020-04-06T00:00:00",
          "2020-04-06T00:00:00",
          "2020-04-06T00:00:00",
          "2020-04-06T00:00:00",
          "2020-04-06T00:00:00",
          "2020-04-06T00:00:00",
          "2020-04-06T00:00:00",
          "2020-04-06T00:00:00",
          "2020-04-07T00:00:00",
          "2020-04-07T00:00:00",
          "2020-04-07T00:00:00",
          "2020-04-07T00:00:00",
          "2020-04-07T00:00:00",
          "2020-04-07T00:00:00",
          "2020-04-07T00:00:00",
          "2020-04-07T00:00:00",
          "2020-04-07T00:00:00",
          "2020-04-07T00:00:00",
          "2020-04-07T00:00:00",
          "2020-04-07T00:00:00",
          "2020-04-07T00:00:00",
          "2020-04-07T00:00:00",
          "2020-04-07T00:00:00",
          "2020-04-07T00:00:00",
          "2020-04-08T00:00:00",
          "2020-04-08T00:00:00",
          "2020-04-08T00:00:00",
          "2020-04-08T00:00:00",
          "2020-04-08T00:00:00",
          "2020-04-08T00:00:00",
          "2020-04-08T00:00:00",
          "2020-04-08T00:00:00",
          "2020-04-08T00:00:00",
          "2020-04-08T00:00:00",
          "2020-04-08T00:00:00",
          "2020-04-09T00:00:00",
          "2020-04-09T00:00:00",
          "2020-04-09T00:00:00",
          "2020-04-10T00:00:00",
          "2020-04-10T00:00:00",
          "2020-04-10T00:00:00",
          "2020-04-10T00:00:00",
          "2020-04-10T00:00:00",
          "2020-04-10T00:00:00",
          "2020-04-10T00:00:00",
          "2020-04-11T00:00:00",
          "2020-04-11T00:00:00",
          "2020-04-12T00:00:00",
          "2020-04-12T00:00:00"
         ],
         "xaxis": "x",
         "yaxis": "y"
        }
       ],
       "layout": {
        "barmode": "relative",
        "legend": {
         "tracegroupgap": 0
        },
        "margin": {
         "t": 60
        },
        "template": {
         "data": {
          "bar": [
           {
            "error_x": {
             "color": "#2a3f5f"
            },
            "error_y": {
             "color": "#2a3f5f"
            },
            "marker": {
             "line": {
              "color": "#E5ECF6",
              "width": 0.5
             }
            },
            "type": "bar"
           }
          ],
          "barpolar": [
           {
            "marker": {
             "line": {
              "color": "#E5ECF6",
              "width": 0.5
             }
            },
            "type": "barpolar"
           }
          ],
          "carpet": [
           {
            "aaxis": {
             "endlinecolor": "#2a3f5f",
             "gridcolor": "white",
             "linecolor": "white",
             "minorgridcolor": "white",
             "startlinecolor": "#2a3f5f"
            },
            "baxis": {
             "endlinecolor": "#2a3f5f",
             "gridcolor": "white",
             "linecolor": "white",
             "minorgridcolor": "white",
             "startlinecolor": "#2a3f5f"
            },
            "type": "carpet"
           }
          ],
          "choropleth": [
           {
            "colorbar": {
             "outlinewidth": 0,
             "ticks": ""
            },
            "type": "choropleth"
           }
          ],
          "contour": [
           {
            "colorbar": {
             "outlinewidth": 0,
             "ticks": ""
            },
            "colorscale": [
             [
              0,
              "#0d0887"
             ],
             [
              0.1111111111111111,
              "#46039f"
             ],
             [
              0.2222222222222222,
              "#7201a8"
             ],
             [
              0.3333333333333333,
              "#9c179e"
             ],
             [
              0.4444444444444444,
              "#bd3786"
             ],
             [
              0.5555555555555556,
              "#d8576b"
             ],
             [
              0.6666666666666666,
              "#ed7953"
             ],
             [
              0.7777777777777778,
              "#fb9f3a"
             ],
             [
              0.8888888888888888,
              "#fdca26"
             ],
             [
              1,
              "#f0f921"
             ]
            ],
            "type": "contour"
           }
          ],
          "contourcarpet": [
           {
            "colorbar": {
             "outlinewidth": 0,
             "ticks": ""
            },
            "type": "contourcarpet"
           }
          ],
          "heatmap": [
           {
            "colorbar": {
             "outlinewidth": 0,
             "ticks": ""
            },
            "colorscale": [
             [
              0,
              "#0d0887"
             ],
             [
              0.1111111111111111,
              "#46039f"
             ],
             [
              0.2222222222222222,
              "#7201a8"
             ],
             [
              0.3333333333333333,
              "#9c179e"
             ],
             [
              0.4444444444444444,
              "#bd3786"
             ],
             [
              0.5555555555555556,
              "#d8576b"
             ],
             [
              0.6666666666666666,
              "#ed7953"
             ],
             [
              0.7777777777777778,
              "#fb9f3a"
             ],
             [
              0.8888888888888888,
              "#fdca26"
             ],
             [
              1,
              "#f0f921"
             ]
            ],
            "type": "heatmap"
           }
          ],
          "heatmapgl": [
           {
            "colorbar": {
             "outlinewidth": 0,
             "ticks": ""
            },
            "colorscale": [
             [
              0,
              "#0d0887"
             ],
             [
              0.1111111111111111,
              "#46039f"
             ],
             [
              0.2222222222222222,
              "#7201a8"
             ],
             [
              0.3333333333333333,
              "#9c179e"
             ],
             [
              0.4444444444444444,
              "#bd3786"
             ],
             [
              0.5555555555555556,
              "#d8576b"
             ],
             [
              0.6666666666666666,
              "#ed7953"
             ],
             [
              0.7777777777777778,
              "#fb9f3a"
             ],
             [
              0.8888888888888888,
              "#fdca26"
             ],
             [
              1,
              "#f0f921"
             ]
            ],
            "type": "heatmapgl"
           }
          ],
          "histogram": [
           {
            "marker": {
             "colorbar": {
              "outlinewidth": 0,
              "ticks": ""
             }
            },
            "type": "histogram"
           }
          ],
          "histogram2d": [
           {
            "colorbar": {
             "outlinewidth": 0,
             "ticks": ""
            },
            "colorscale": [
             [
              0,
              "#0d0887"
             ],
             [
              0.1111111111111111,
              "#46039f"
             ],
             [
              0.2222222222222222,
              "#7201a8"
             ],
             [
              0.3333333333333333,
              "#9c179e"
             ],
             [
              0.4444444444444444,
              "#bd3786"
             ],
             [
              0.5555555555555556,
              "#d8576b"
             ],
             [
              0.6666666666666666,
              "#ed7953"
             ],
             [
              0.7777777777777778,
              "#fb9f3a"
             ],
             [
              0.8888888888888888,
              "#fdca26"
             ],
             [
              1,
              "#f0f921"
             ]
            ],
            "type": "histogram2d"
           }
          ],
          "histogram2dcontour": [
           {
            "colorbar": {
             "outlinewidth": 0,
             "ticks": ""
            },
            "colorscale": [
             [
              0,
              "#0d0887"
             ],
             [
              0.1111111111111111,
              "#46039f"
             ],
             [
              0.2222222222222222,
              "#7201a8"
             ],
             [
              0.3333333333333333,
              "#9c179e"
             ],
             [
              0.4444444444444444,
              "#bd3786"
             ],
             [
              0.5555555555555556,
              "#d8576b"
             ],
             [
              0.6666666666666666,
              "#ed7953"
             ],
             [
              0.7777777777777778,
              "#fb9f3a"
             ],
             [
              0.8888888888888888,
              "#fdca26"
             ],
             [
              1,
              "#f0f921"
             ]
            ],
            "type": "histogram2dcontour"
           }
          ],
          "mesh3d": [
           {
            "colorbar": {
             "outlinewidth": 0,
             "ticks": ""
            },
            "type": "mesh3d"
           }
          ],
          "parcoords": [
           {
            "line": {
             "colorbar": {
              "outlinewidth": 0,
              "ticks": ""
             }
            },
            "type": "parcoords"
           }
          ],
          "pie": [
           {
            "automargin": true,
            "type": "pie"
           }
          ],
          "scatter": [
           {
            "marker": {
             "colorbar": {
              "outlinewidth": 0,
              "ticks": ""
             }
            },
            "type": "scatter"
           }
          ],
          "scatter3d": [
           {
            "line": {
             "colorbar": {
              "outlinewidth": 0,
              "ticks": ""
             }
            },
            "marker": {
             "colorbar": {
              "outlinewidth": 0,
              "ticks": ""
             }
            },
            "type": "scatter3d"
           }
          ],
          "scattercarpet": [
           {
            "marker": {
             "colorbar": {
              "outlinewidth": 0,
              "ticks": ""
             }
            },
            "type": "scattercarpet"
           }
          ],
          "scattergeo": [
           {
            "marker": {
             "colorbar": {
              "outlinewidth": 0,
              "ticks": ""
             }
            },
            "type": "scattergeo"
           }
          ],
          "scattergl": [
           {
            "marker": {
             "colorbar": {
              "outlinewidth": 0,
              "ticks": ""
             }
            },
            "type": "scattergl"
           }
          ],
          "scattermapbox": [
           {
            "marker": {
             "colorbar": {
              "outlinewidth": 0,
              "ticks": ""
             }
            },
            "type": "scattermapbox"
           }
          ],
          "scatterpolar": [
           {
            "marker": {
             "colorbar": {
              "outlinewidth": 0,
              "ticks": ""
             }
            },
            "type": "scatterpolar"
           }
          ],
          "scatterpolargl": [
           {
            "marker": {
             "colorbar": {
              "outlinewidth": 0,
              "ticks": ""
             }
            },
            "type": "scatterpolargl"
           }
          ],
          "scatterternary": [
           {
            "marker": {
             "colorbar": {
              "outlinewidth": 0,
              "ticks": ""
             }
            },
            "type": "scatterternary"
           }
          ],
          "surface": [
           {
            "colorbar": {
             "outlinewidth": 0,
             "ticks": ""
            },
            "colorscale": [
             [
              0,
              "#0d0887"
             ],
             [
              0.1111111111111111,
              "#46039f"
             ],
             [
              0.2222222222222222,
              "#7201a8"
             ],
             [
              0.3333333333333333,
              "#9c179e"
             ],
             [
              0.4444444444444444,
              "#bd3786"
             ],
             [
              0.5555555555555556,
              "#d8576b"
             ],
             [
              0.6666666666666666,
              "#ed7953"
             ],
             [
              0.7777777777777778,
              "#fb9f3a"
             ],
             [
              0.8888888888888888,
              "#fdca26"
             ],
             [
              1,
              "#f0f921"
             ]
            ],
            "type": "surface"
           }
          ],
          "table": [
           {
            "cells": {
             "fill": {
              "color": "#EBF0F8"
             },
             "line": {
              "color": "white"
             }
            },
            "header": {
             "fill": {
              "color": "#C8D4E3"
             },
             "line": {
              "color": "white"
             }
            },
            "type": "table"
           }
          ]
         },
         "layout": {
          "annotationdefaults": {
           "arrowcolor": "#2a3f5f",
           "arrowhead": 0,
           "arrowwidth": 1
          },
          "coloraxis": {
           "colorbar": {
            "outlinewidth": 0,
            "ticks": ""
           }
          },
          "colorscale": {
           "diverging": [
            [
             0,
             "#8e0152"
            ],
            [
             0.1,
             "#c51b7d"
            ],
            [
             0.2,
             "#de77ae"
            ],
            [
             0.3,
             "#f1b6da"
            ],
            [
             0.4,
             "#fde0ef"
            ],
            [
             0.5,
             "#f7f7f7"
            ],
            [
             0.6,
             "#e6f5d0"
            ],
            [
             0.7,
             "#b8e186"
            ],
            [
             0.8,
             "#7fbc41"
            ],
            [
             0.9,
             "#4d9221"
            ],
            [
             1,
             "#276419"
            ]
           ],
           "sequential": [
            [
             0,
             "#0d0887"
            ],
            [
             0.1111111111111111,
             "#46039f"
            ],
            [
             0.2222222222222222,
             "#7201a8"
            ],
            [
             0.3333333333333333,
             "#9c179e"
            ],
            [
             0.4444444444444444,
             "#bd3786"
            ],
            [
             0.5555555555555556,
             "#d8576b"
            ],
            [
             0.6666666666666666,
             "#ed7953"
            ],
            [
             0.7777777777777778,
             "#fb9f3a"
            ],
            [
             0.8888888888888888,
             "#fdca26"
            ],
            [
             1,
             "#f0f921"
            ]
           ],
           "sequentialminus": [
            [
             0,
             "#0d0887"
            ],
            [
             0.1111111111111111,
             "#46039f"
            ],
            [
             0.2222222222222222,
             "#7201a8"
            ],
            [
             0.3333333333333333,
             "#9c179e"
            ],
            [
             0.4444444444444444,
             "#bd3786"
            ],
            [
             0.5555555555555556,
             "#d8576b"
            ],
            [
             0.6666666666666666,
             "#ed7953"
            ],
            [
             0.7777777777777778,
             "#fb9f3a"
            ],
            [
             0.8888888888888888,
             "#fdca26"
            ],
            [
             1,
             "#f0f921"
            ]
           ]
          },
          "colorway": [
           "#636efa",
           "#EF553B",
           "#00cc96",
           "#ab63fa",
           "#FFA15A",
           "#19d3f3",
           "#FF6692",
           "#B6E880",
           "#FF97FF",
           "#FECB52"
          ],
          "font": {
           "color": "#2a3f5f"
          },
          "geo": {
           "bgcolor": "white",
           "lakecolor": "white",
           "landcolor": "#E5ECF6",
           "showlakes": true,
           "showland": true,
           "subunitcolor": "white"
          },
          "hoverlabel": {
           "align": "left"
          },
          "hovermode": "closest",
          "mapbox": {
           "style": "light"
          },
          "paper_bgcolor": "white",
          "plot_bgcolor": "#E5ECF6",
          "polar": {
           "angularaxis": {
            "gridcolor": "white",
            "linecolor": "white",
            "ticks": ""
           },
           "bgcolor": "#E5ECF6",
           "radialaxis": {
            "gridcolor": "white",
            "linecolor": "white",
            "ticks": ""
           }
          },
          "scene": {
           "xaxis": {
            "backgroundcolor": "#E5ECF6",
            "gridcolor": "white",
            "gridwidth": 2,
            "linecolor": "white",
            "showbackground": true,
            "ticks": "",
            "zerolinecolor": "white"
           },
           "yaxis": {
            "backgroundcolor": "#E5ECF6",
            "gridcolor": "white",
            "gridwidth": 2,
            "linecolor": "white",
            "showbackground": true,
            "ticks": "",
            "zerolinecolor": "white"
           },
           "zaxis": {
            "backgroundcolor": "#E5ECF6",
            "gridcolor": "white",
            "gridwidth": 2,
            "linecolor": "white",
            "showbackground": true,
            "ticks": "",
            "zerolinecolor": "white"
           }
          },
          "shapedefaults": {
           "line": {
            "color": "#2a3f5f"
           }
          },
          "ternary": {
           "aaxis": {
            "gridcolor": "white",
            "linecolor": "white",
            "ticks": ""
           },
           "baxis": {
            "gridcolor": "white",
            "linecolor": "white",
            "ticks": ""
           },
           "bgcolor": "#E5ECF6",
           "caxis": {
            "gridcolor": "white",
            "linecolor": "white",
            "ticks": ""
           }
          },
          "title": {
           "x": 0.05
          },
          "xaxis": {
           "automargin": true,
           "gridcolor": "white",
           "linecolor": "white",
           "ticks": "",
           "title": {
            "standoff": 15
           },
           "zerolinecolor": "white",
           "zerolinewidth": 2
          },
          "yaxis": {
           "automargin": true,
           "gridcolor": "white",
           "linecolor": "white",
           "ticks": "",
           "title": {
            "standoff": 15
           },
           "zerolinecolor": "white",
           "zerolinewidth": 2
          }
         }
        },
        "xaxis": {
         "anchor": "y",
         "domain": [
          0,
          1
         ],
         "title": {
          "text": "date"
         }
        },
        "yaxis": {
         "anchor": "x",
         "domain": [
          0,
          1
         ],
         "title": {
          "text": "count"
         }
        }
       }
      },
      "text/html": [
       "<div>\n",
       "        \n",
       "        \n",
       "            <div id=\"e9f02bd2-e6af-41df-bfc5-3aaf42df546d\" class=\"plotly-graph-div\" style=\"height:525px; width:100%;\"></div>\n",
       "            <script type=\"text/javascript\">\n",
       "                require([\"plotly\"], function(Plotly) {\n",
       "                    window.PLOTLYENV=window.PLOTLYENV || {};\n",
       "                    \n",
       "                if (document.getElementById(\"e9f02bd2-e6af-41df-bfc5-3aaf42df546d\")) {\n",
       "                    Plotly.newPlot(\n",
       "                        'e9f02bd2-e6af-41df-bfc5-3aaf42df546d',\n",
       "                        [{\"alignmentgroup\": \"True\", \"bingroup\": \"x\", \"hoverlabel\": {\"namelength\": 0}, \"hovertemplate\": \"date=%{x}<br>count=%{y}\", \"legendgroup\": \"\", \"marker\": {\"color\": \"#636efa\"}, \"name\": \"\", \"offsetgroup\": \"\", \"orientation\": \"v\", \"showlegend\": false, \"type\": \"histogram\", \"x\": [\"2020-03-01T00:00:00\", \"2020-03-04T00:00:00\", \"2020-03-05T00:00:00\", \"2020-03-06T00:00:00\", \"2020-03-06T00:00:00\", \"2020-03-07T00:00:00\", \"2020-03-07T00:00:00\", \"2020-03-08T00:00:00\", \"2020-03-09T00:00:00\", \"2020-03-10T00:00:00\", \"2020-03-10T00:00:00\", \"2020-03-11T00:00:00\", \"2020-03-12T00:00:00\", \"2020-03-13T00:00:00\", \"2020-03-13T00:00:00\", \"2020-03-14T00:00:00\", \"2020-03-14T00:00:00\", \"2020-03-14T00:00:00\", \"2020-03-14T00:00:00\", \"2020-03-14T00:00:00\", \"2020-03-14T00:00:00\", \"2020-03-15T00:00:00\", \"2020-03-15T00:00:00\", \"2020-03-15T00:00:00\", \"2020-03-15T00:00:00\", \"2020-03-15T00:00:00\", \"2020-03-15T00:00:00\", \"2020-03-15T00:00:00\", \"2020-03-16T00:00:00\", \"2020-03-16T00:00:00\", \"2020-03-16T00:00:00\", \"2020-03-16T00:00:00\", \"2020-03-16T00:00:00\", \"2020-03-16T00:00:00\", \"2020-03-17T00:00:00\", \"2020-03-17T00:00:00\", \"2020-03-17T00:00:00\", \"2020-03-17T00:00:00\", \"2020-03-17T00:00:00\", \"2020-03-17T00:00:00\", \"2020-03-17T00:00:00\", \"2020-03-18T00:00:00\", \"2020-03-18T00:00:00\", \"2020-03-18T00:00:00\", \"2020-03-18T00:00:00\", \"2020-03-18T00:00:00\", \"2020-03-18T00:00:00\", \"2020-03-18T00:00:00\", \"2020-03-18T00:00:00\", \"2020-03-18T00:00:00\", \"2020-03-18T00:00:00\", \"2020-03-19T00:00:00\", \"2020-03-19T00:00:00\", \"2020-03-19T00:00:00\", \"2020-03-19T00:00:00\", \"2020-03-19T00:00:00\", \"2020-03-19T00:00:00\", \"2020-03-19T00:00:00\", \"2020-03-19T00:00:00\", \"2020-03-20T00:00:00\", \"2020-03-20T00:00:00\", \"2020-03-20T00:00:00\", \"2020-03-20T00:00:00\", \"2020-03-20T00:00:00\", \"2020-03-20T00:00:00\", \"2020-03-20T00:00:00\", \"2020-03-20T00:00:00\", \"2020-03-20T00:00:00\", \"2020-03-20T00:00:00\", \"2020-03-20T00:00:00\", \"2020-03-20T00:00:00\", \"2020-03-20T00:00:00\", \"2020-03-21T00:00:00\", \"2020-03-21T00:00:00\", \"2020-03-21T00:00:00\", \"2020-03-21T00:00:00\", \"2020-03-21T00:00:00\", \"2020-03-21T00:00:00\", \"2020-03-21T00:00:00\", \"2020-03-22T00:00:00\", \"2020-03-22T00:00:00\", \"2020-03-22T00:00:00\", \"2020-03-22T00:00:00\", \"2020-03-22T00:00:00\", \"2020-03-22T00:00:00\", \"2020-03-22T00:00:00\", \"2020-03-22T00:00:00\", \"2020-03-22T00:00:00\", \"2020-03-22T00:00:00\", \"2020-03-22T00:00:00\", \"2020-03-22T00:00:00\", \"2020-03-23T00:00:00\", \"2020-03-23T00:00:00\", \"2020-03-23T00:00:00\", \"2020-03-23T00:00:00\", \"2020-03-23T00:00:00\", \"2020-03-23T00:00:00\", \"2020-03-23T00:00:00\", \"2020-03-23T00:00:00\", \"2020-03-23T00:00:00\", \"2020-03-23T00:00:00\", \"2020-03-23T00:00:00\", \"2020-03-23T00:00:00\", \"2020-03-23T00:00:00\", \"2020-03-24T00:00:00\", \"2020-03-24T00:00:00\", \"2020-03-24T00:00:00\", \"2020-03-24T00:00:00\", \"2020-03-24T00:00:00\", \"2020-03-24T00:00:00\", \"2020-03-24T00:00:00\", \"2020-03-24T00:00:00\", \"2020-03-24T00:00:00\", \"2020-03-24T00:00:00\", \"2020-03-25T00:00:00\", \"2020-03-25T00:00:00\", \"2020-03-25T00:00:00\", \"2020-03-25T00:00:00\", \"2020-03-25T00:00:00\", \"2020-03-25T00:00:00\", \"2020-03-26T00:00:00\", \"2020-03-26T00:00:00\", \"2020-03-26T00:00:00\", \"2020-03-26T00:00:00\", \"2020-03-26T00:00:00\", \"2020-03-26T00:00:00\", \"2020-03-26T00:00:00\", \"2020-03-26T00:00:00\", \"2020-03-26T00:00:00\", \"2020-03-26T00:00:00\", \"2020-03-26T00:00:00\", \"2020-03-26T00:00:00\", \"2020-03-26T00:00:00\", \"2020-03-26T00:00:00\", \"2020-03-26T00:00:00\", \"2020-03-26T00:00:00\", \"2020-03-26T00:00:00\", \"2020-03-26T00:00:00\", \"2020-03-26T00:00:00\", \"2020-03-26T00:00:00\", \"2020-03-26T00:00:00\", \"2020-03-26T00:00:00\", \"2020-03-26T00:00:00\", \"2020-03-26T00:00:00\", \"2020-03-26T00:00:00\", \"2020-03-27T00:00:00\", \"2020-03-27T00:00:00\", \"2020-03-27T00:00:00\", \"2020-03-27T00:00:00\", \"2020-03-27T00:00:00\", \"2020-03-27T00:00:00\", \"2020-03-27T00:00:00\", \"2020-03-27T00:00:00\", \"2020-03-27T00:00:00\", \"2020-03-27T00:00:00\", \"2020-03-27T00:00:00\", \"2020-03-27T00:00:00\", \"2020-03-27T00:00:00\", \"2020-03-27T00:00:00\", \"2020-03-27T00:00:00\", \"2020-03-28T00:00:00\", \"2020-03-28T00:00:00\", \"2020-03-28T00:00:00\", \"2020-03-28T00:00:00\", \"2020-03-28T00:00:00\", \"2020-03-28T00:00:00\", \"2020-03-28T00:00:00\", \"2020-03-28T00:00:00\", \"2020-03-28T00:00:00\", \"2020-03-28T00:00:00\", \"2020-03-28T00:00:00\", \"2020-03-28T00:00:00\", \"2020-03-28T00:00:00\", \"2020-03-28T00:00:00\", \"2020-03-29T00:00:00\", \"2020-03-29T00:00:00\", \"2020-03-29T00:00:00\", \"2020-03-29T00:00:00\", \"2020-03-29T00:00:00\", \"2020-03-29T00:00:00\", \"2020-03-29T00:00:00\", \"2020-03-29T00:00:00\", \"2020-03-29T00:00:00\", \"2020-03-29T00:00:00\", \"2020-03-29T00:00:00\", \"2020-03-29T00:00:00\", \"2020-03-29T00:00:00\", \"2020-03-29T00:00:00\", \"2020-03-29T00:00:00\", \"2020-03-29T00:00:00\", \"2020-03-29T00:00:00\", \"2020-03-29T00:00:00\", \"2020-03-29T00:00:00\", \"2020-03-29T00:00:00\", \"2020-03-29T00:00:00\", \"2020-03-30T00:00:00\", \"2020-03-30T00:00:00\", \"2020-03-30T00:00:00\", \"2020-03-30T00:00:00\", \"2020-03-30T00:00:00\", \"2020-03-30T00:00:00\", \"2020-03-30T00:00:00\", \"2020-03-30T00:00:00\", \"2020-03-30T00:00:00\", \"2020-03-30T00:00:00\", \"2020-03-30T00:00:00\", \"2020-03-30T00:00:00\", \"2020-03-30T00:00:00\", \"2020-03-30T00:00:00\", \"2020-03-30T00:00:00\", \"2020-03-31T00:00:00\", \"2020-03-31T00:00:00\", \"2020-03-31T00:00:00\", \"2020-03-31T00:00:00\", \"2020-03-31T00:00:00\", \"2020-03-31T00:00:00\", \"2020-03-31T00:00:00\", \"2020-03-31T00:00:00\", \"2020-03-31T00:00:00\", \"2020-03-31T00:00:00\", \"2020-03-31T00:00:00\", \"2020-04-01T00:00:00\", \"2020-04-01T00:00:00\", \"2020-04-01T00:00:00\", \"2020-04-01T00:00:00\", \"2020-04-01T00:00:00\", \"2020-04-01T00:00:00\", \"2020-04-01T00:00:00\", \"2020-04-01T00:00:00\", \"2020-04-01T00:00:00\", \"2020-04-01T00:00:00\", \"2020-04-01T00:00:00\", \"2020-04-01T00:00:00\", \"2020-04-01T00:00:00\", \"2020-04-01T00:00:00\", \"2020-04-01T00:00:00\", \"2020-04-01T00:00:00\", \"2020-04-01T00:00:00\", \"2020-04-01T00:00:00\", \"2020-04-01T00:00:00\", \"2020-04-01T00:00:00\", \"2020-04-01T00:00:00\", \"2020-04-01T00:00:00\", \"2020-04-01T00:00:00\", \"2020-04-01T00:00:00\", \"2020-04-01T00:00:00\", \"2020-04-01T00:00:00\", \"2020-04-01T00:00:00\", \"2020-04-01T00:00:00\", \"2020-04-01T00:00:00\", \"2020-04-01T00:00:00\", \"2020-04-01T00:00:00\", \"2020-04-01T00:00:00\", \"2020-04-01T00:00:00\", \"2020-04-01T00:00:00\", \"2020-04-01T00:00:00\", \"2020-04-01T00:00:00\", \"2020-04-01T00:00:00\", \"2020-04-01T00:00:00\", \"2020-04-01T00:00:00\", \"2020-04-01T00:00:00\", \"2020-04-01T00:00:00\", \"2020-04-01T00:00:00\", \"2020-04-01T00:00:00\", \"2020-04-02T00:00:00\", \"2020-04-02T00:00:00\", \"2020-04-02T00:00:00\", \"2020-04-02T00:00:00\", \"2020-04-02T00:00:00\", \"2020-04-02T00:00:00\", \"2020-04-02T00:00:00\", \"2020-04-02T00:00:00\", \"2020-04-02T00:00:00\", \"2020-04-02T00:00:00\", \"2020-04-02T00:00:00\", \"2020-04-02T00:00:00\", \"2020-04-02T00:00:00\", \"2020-04-02T00:00:00\", \"2020-04-02T00:00:00\", \"2020-04-02T00:00:00\", \"2020-04-02T00:00:00\", \"2020-04-02T00:00:00\", \"2020-04-03T00:00:00\", \"2020-04-03T00:00:00\", \"2020-04-03T00:00:00\", \"2020-04-03T00:00:00\", \"2020-04-03T00:00:00\", \"2020-04-03T00:00:00\", \"2020-04-03T00:00:00\", \"2020-04-03T00:00:00\", \"2020-04-03T00:00:00\", \"2020-04-03T00:00:00\", \"2020-04-03T00:00:00\", \"2020-04-03T00:00:00\", \"2020-04-03T00:00:00\", \"2020-04-03T00:00:00\", \"2020-04-03T00:00:00\", \"2020-04-03T00:00:00\", \"2020-04-03T00:00:00\", \"2020-04-04T00:00:00\", \"2020-04-04T00:00:00\", \"2020-04-04T00:00:00\", \"2020-04-04T00:00:00\", \"2020-04-04T00:00:00\", \"2020-04-04T00:00:00\", \"2020-04-04T00:00:00\", \"2020-04-04T00:00:00\", \"2020-04-04T00:00:00\", \"2020-04-04T00:00:00\", \"2020-04-04T00:00:00\", \"2020-04-04T00:00:00\", \"2020-04-04T00:00:00\", \"2020-04-04T00:00:00\", \"2020-04-04T00:00:00\", \"2020-04-04T00:00:00\", \"2020-04-04T00:00:00\", \"2020-04-04T00:00:00\", \"2020-04-04T00:00:00\", \"2020-04-05T00:00:00\", \"2020-04-05T00:00:00\", \"2020-04-05T00:00:00\", \"2020-04-05T00:00:00\", \"2020-04-05T00:00:00\", \"2020-04-05T00:00:00\", \"2020-04-05T00:00:00\", \"2020-04-05T00:00:00\", \"2020-04-05T00:00:00\", \"2020-04-05T00:00:00\", \"2020-04-05T00:00:00\", \"2020-04-05T00:00:00\", \"2020-04-05T00:00:00\", \"2020-04-06T00:00:00\", \"2020-04-06T00:00:00\", \"2020-04-06T00:00:00\", \"2020-04-06T00:00:00\", \"2020-04-06T00:00:00\", \"2020-04-06T00:00:00\", \"2020-04-06T00:00:00\", \"2020-04-06T00:00:00\", \"2020-04-06T00:00:00\", \"2020-04-06T00:00:00\", \"2020-04-06T00:00:00\", \"2020-04-06T00:00:00\", \"2020-04-06T00:00:00\", \"2020-04-07T00:00:00\", \"2020-04-07T00:00:00\", \"2020-04-07T00:00:00\", \"2020-04-07T00:00:00\", \"2020-04-07T00:00:00\", \"2020-04-07T00:00:00\", \"2020-04-07T00:00:00\", \"2020-04-07T00:00:00\", \"2020-04-07T00:00:00\", \"2020-04-07T00:00:00\", \"2020-04-07T00:00:00\", \"2020-04-07T00:00:00\", \"2020-04-07T00:00:00\", \"2020-04-07T00:00:00\", \"2020-04-07T00:00:00\", \"2020-04-07T00:00:00\", \"2020-04-08T00:00:00\", \"2020-04-08T00:00:00\", \"2020-04-08T00:00:00\", \"2020-04-08T00:00:00\", \"2020-04-08T00:00:00\", \"2020-04-08T00:00:00\", \"2020-04-08T00:00:00\", \"2020-04-08T00:00:00\", \"2020-04-08T00:00:00\", \"2020-04-08T00:00:00\", \"2020-04-08T00:00:00\", \"2020-04-09T00:00:00\", \"2020-04-09T00:00:00\", \"2020-04-09T00:00:00\", \"2020-04-10T00:00:00\", \"2020-04-10T00:00:00\", \"2020-04-10T00:00:00\", \"2020-04-10T00:00:00\", \"2020-04-10T00:00:00\", \"2020-04-10T00:00:00\", \"2020-04-10T00:00:00\", \"2020-04-11T00:00:00\", \"2020-04-11T00:00:00\", \"2020-04-12T00:00:00\", \"2020-04-12T00:00:00\"], \"xaxis\": \"x\", \"yaxis\": \"y\"}],\n",
       "                        {\"barmode\": \"relative\", \"legend\": {\"tracegroupgap\": 0}, \"margin\": {\"t\": 60}, \"template\": {\"data\": {\"bar\": [{\"error_x\": {\"color\": \"#2a3f5f\"}, \"error_y\": {\"color\": \"#2a3f5f\"}, \"marker\": {\"line\": {\"color\": \"#E5ECF6\", \"width\": 0.5}}, \"type\": \"bar\"}], \"barpolar\": [{\"marker\": {\"line\": {\"color\": \"#E5ECF6\", \"width\": 0.5}}, \"type\": \"barpolar\"}], \"carpet\": [{\"aaxis\": {\"endlinecolor\": \"#2a3f5f\", \"gridcolor\": \"white\", \"linecolor\": \"white\", \"minorgridcolor\": \"white\", \"startlinecolor\": \"#2a3f5f\"}, \"baxis\": {\"endlinecolor\": \"#2a3f5f\", \"gridcolor\": \"white\", \"linecolor\": \"white\", \"minorgridcolor\": \"white\", \"startlinecolor\": \"#2a3f5f\"}, \"type\": \"carpet\"}], \"choropleth\": [{\"colorbar\": {\"outlinewidth\": 0, \"ticks\": \"\"}, \"type\": \"choropleth\"}], \"contour\": [{\"colorbar\": {\"outlinewidth\": 0, \"ticks\": \"\"}, \"colorscale\": [[0.0, \"#0d0887\"], [0.1111111111111111, \"#46039f\"], [0.2222222222222222, \"#7201a8\"], [0.3333333333333333, \"#9c179e\"], [0.4444444444444444, \"#bd3786\"], [0.5555555555555556, \"#d8576b\"], [0.6666666666666666, \"#ed7953\"], [0.7777777777777778, \"#fb9f3a\"], [0.8888888888888888, \"#fdca26\"], [1.0, \"#f0f921\"]], \"type\": \"contour\"}], \"contourcarpet\": [{\"colorbar\": {\"outlinewidth\": 0, \"ticks\": \"\"}, \"type\": \"contourcarpet\"}], \"heatmap\": [{\"colorbar\": {\"outlinewidth\": 0, \"ticks\": \"\"}, \"colorscale\": [[0.0, \"#0d0887\"], [0.1111111111111111, \"#46039f\"], [0.2222222222222222, \"#7201a8\"], [0.3333333333333333, \"#9c179e\"], [0.4444444444444444, \"#bd3786\"], [0.5555555555555556, \"#d8576b\"], [0.6666666666666666, \"#ed7953\"], [0.7777777777777778, \"#fb9f3a\"], [0.8888888888888888, \"#fdca26\"], [1.0, \"#f0f921\"]], \"type\": \"heatmap\"}], \"heatmapgl\": [{\"colorbar\": {\"outlinewidth\": 0, \"ticks\": \"\"}, \"colorscale\": [[0.0, \"#0d0887\"], [0.1111111111111111, \"#46039f\"], [0.2222222222222222, \"#7201a8\"], [0.3333333333333333, \"#9c179e\"], [0.4444444444444444, \"#bd3786\"], [0.5555555555555556, \"#d8576b\"], [0.6666666666666666, \"#ed7953\"], [0.7777777777777778, \"#fb9f3a\"], [0.8888888888888888, \"#fdca26\"], [1.0, \"#f0f921\"]], \"type\": \"heatmapgl\"}], \"histogram\": [{\"marker\": {\"colorbar\": {\"outlinewidth\": 0, \"ticks\": \"\"}}, \"type\": \"histogram\"}], \"histogram2d\": [{\"colorbar\": {\"outlinewidth\": 0, \"ticks\": \"\"}, \"colorscale\": [[0.0, \"#0d0887\"], [0.1111111111111111, \"#46039f\"], [0.2222222222222222, \"#7201a8\"], [0.3333333333333333, \"#9c179e\"], [0.4444444444444444, \"#bd3786\"], [0.5555555555555556, \"#d8576b\"], [0.6666666666666666, \"#ed7953\"], [0.7777777777777778, \"#fb9f3a\"], [0.8888888888888888, \"#fdca26\"], [1.0, \"#f0f921\"]], \"type\": \"histogram2d\"}], \"histogram2dcontour\": [{\"colorbar\": {\"outlinewidth\": 0, \"ticks\": \"\"}, \"colorscale\": [[0.0, \"#0d0887\"], [0.1111111111111111, \"#46039f\"], [0.2222222222222222, \"#7201a8\"], [0.3333333333333333, \"#9c179e\"], [0.4444444444444444, \"#bd3786\"], [0.5555555555555556, \"#d8576b\"], [0.6666666666666666, \"#ed7953\"], [0.7777777777777778, \"#fb9f3a\"], [0.8888888888888888, \"#fdca26\"], [1.0, \"#f0f921\"]], \"type\": \"histogram2dcontour\"}], \"mesh3d\": [{\"colorbar\": {\"outlinewidth\": 0, \"ticks\": \"\"}, \"type\": \"mesh3d\"}], \"parcoords\": [{\"line\": {\"colorbar\": {\"outlinewidth\": 0, \"ticks\": \"\"}}, \"type\": \"parcoords\"}], \"pie\": [{\"automargin\": true, \"type\": \"pie\"}], \"scatter\": [{\"marker\": {\"colorbar\": {\"outlinewidth\": 0, \"ticks\": \"\"}}, \"type\": \"scatter\"}], \"scatter3d\": [{\"line\": {\"colorbar\": {\"outlinewidth\": 0, \"ticks\": \"\"}}, \"marker\": {\"colorbar\": {\"outlinewidth\": 0, \"ticks\": \"\"}}, \"type\": \"scatter3d\"}], \"scattercarpet\": [{\"marker\": {\"colorbar\": {\"outlinewidth\": 0, \"ticks\": \"\"}}, \"type\": \"scattercarpet\"}], \"scattergeo\": [{\"marker\": {\"colorbar\": {\"outlinewidth\": 0, \"ticks\": \"\"}}, \"type\": \"scattergeo\"}], \"scattergl\": [{\"marker\": {\"colorbar\": {\"outlinewidth\": 0, \"ticks\": \"\"}}, \"type\": \"scattergl\"}], \"scattermapbox\": [{\"marker\": {\"colorbar\": {\"outlinewidth\": 0, \"ticks\": \"\"}}, \"type\": \"scattermapbox\"}], \"scatterpolar\": [{\"marker\": {\"colorbar\": {\"outlinewidth\": 0, \"ticks\": \"\"}}, \"type\": \"scatterpolar\"}], \"scatterpolargl\": [{\"marker\": {\"colorbar\": {\"outlinewidth\": 0, \"ticks\": \"\"}}, \"type\": \"scatterpolargl\"}], \"scatterternary\": [{\"marker\": {\"colorbar\": {\"outlinewidth\": 0, \"ticks\": \"\"}}, \"type\": \"scatterternary\"}], \"surface\": [{\"colorbar\": {\"outlinewidth\": 0, \"ticks\": \"\"}, \"colorscale\": [[0.0, \"#0d0887\"], [0.1111111111111111, \"#46039f\"], [0.2222222222222222, \"#7201a8\"], [0.3333333333333333, \"#9c179e\"], [0.4444444444444444, \"#bd3786\"], [0.5555555555555556, \"#d8576b\"], [0.6666666666666666, \"#ed7953\"], [0.7777777777777778, \"#fb9f3a\"], [0.8888888888888888, \"#fdca26\"], [1.0, \"#f0f921\"]], \"type\": \"surface\"}], \"table\": [{\"cells\": {\"fill\": {\"color\": \"#EBF0F8\"}, \"line\": {\"color\": \"white\"}}, \"header\": {\"fill\": {\"color\": \"#C8D4E3\"}, \"line\": {\"color\": \"white\"}}, \"type\": \"table\"}]}, \"layout\": {\"annotationdefaults\": {\"arrowcolor\": \"#2a3f5f\", \"arrowhead\": 0, \"arrowwidth\": 1}, \"coloraxis\": {\"colorbar\": {\"outlinewidth\": 0, \"ticks\": \"\"}}, \"colorscale\": {\"diverging\": [[0, \"#8e0152\"], [0.1, \"#c51b7d\"], [0.2, \"#de77ae\"], [0.3, \"#f1b6da\"], [0.4, \"#fde0ef\"], [0.5, \"#f7f7f7\"], [0.6, \"#e6f5d0\"], [0.7, \"#b8e186\"], [0.8, \"#7fbc41\"], [0.9, \"#4d9221\"], [1, \"#276419\"]], \"sequential\": [[0.0, \"#0d0887\"], [0.1111111111111111, \"#46039f\"], [0.2222222222222222, \"#7201a8\"], [0.3333333333333333, \"#9c179e\"], [0.4444444444444444, \"#bd3786\"], [0.5555555555555556, \"#d8576b\"], [0.6666666666666666, \"#ed7953\"], [0.7777777777777778, \"#fb9f3a\"], [0.8888888888888888, \"#fdca26\"], [1.0, \"#f0f921\"]], \"sequentialminus\": [[0.0, \"#0d0887\"], [0.1111111111111111, \"#46039f\"], [0.2222222222222222, \"#7201a8\"], [0.3333333333333333, \"#9c179e\"], [0.4444444444444444, \"#bd3786\"], [0.5555555555555556, \"#d8576b\"], [0.6666666666666666, \"#ed7953\"], [0.7777777777777778, \"#fb9f3a\"], [0.8888888888888888, \"#fdca26\"], [1.0, \"#f0f921\"]]}, \"colorway\": [\"#636efa\", \"#EF553B\", \"#00cc96\", \"#ab63fa\", \"#FFA15A\", \"#19d3f3\", \"#FF6692\", \"#B6E880\", \"#FF97FF\", \"#FECB52\"], \"font\": {\"color\": \"#2a3f5f\"}, \"geo\": {\"bgcolor\": \"white\", \"lakecolor\": \"white\", \"landcolor\": \"#E5ECF6\", \"showlakes\": true, \"showland\": true, \"subunitcolor\": \"white\"}, \"hoverlabel\": {\"align\": \"left\"}, \"hovermode\": \"closest\", \"mapbox\": {\"style\": \"light\"}, \"paper_bgcolor\": \"white\", \"plot_bgcolor\": \"#E5ECF6\", \"polar\": {\"angularaxis\": {\"gridcolor\": \"white\", \"linecolor\": \"white\", \"ticks\": \"\"}, \"bgcolor\": \"#E5ECF6\", \"radialaxis\": {\"gridcolor\": \"white\", \"linecolor\": \"white\", \"ticks\": \"\"}}, \"scene\": {\"xaxis\": {\"backgroundcolor\": \"#E5ECF6\", \"gridcolor\": \"white\", \"gridwidth\": 2, \"linecolor\": \"white\", \"showbackground\": true, \"ticks\": \"\", \"zerolinecolor\": \"white\"}, \"yaxis\": {\"backgroundcolor\": \"#E5ECF6\", \"gridcolor\": \"white\", \"gridwidth\": 2, \"linecolor\": \"white\", \"showbackground\": true, \"ticks\": \"\", \"zerolinecolor\": \"white\"}, \"zaxis\": {\"backgroundcolor\": \"#E5ECF6\", \"gridcolor\": \"white\", \"gridwidth\": 2, \"linecolor\": \"white\", \"showbackground\": true, \"ticks\": \"\", \"zerolinecolor\": \"white\"}}, \"shapedefaults\": {\"line\": {\"color\": \"#2a3f5f\"}}, \"ternary\": {\"aaxis\": {\"gridcolor\": \"white\", \"linecolor\": \"white\", \"ticks\": \"\"}, \"baxis\": {\"gridcolor\": \"white\", \"linecolor\": \"white\", \"ticks\": \"\"}, \"bgcolor\": \"#E5ECF6\", \"caxis\": {\"gridcolor\": \"white\", \"linecolor\": \"white\", \"ticks\": \"\"}}, \"title\": {\"x\": 0.05}, \"xaxis\": {\"automargin\": true, \"gridcolor\": \"white\", \"linecolor\": \"white\", \"ticks\": \"\", \"title\": {\"standoff\": 15}, \"zerolinecolor\": \"white\", \"zerolinewidth\": 2}, \"yaxis\": {\"automargin\": true, \"gridcolor\": \"white\", \"linecolor\": \"white\", \"ticks\": \"\", \"title\": {\"standoff\": 15}, \"zerolinecolor\": \"white\", \"zerolinewidth\": 2}}}, \"xaxis\": {\"anchor\": \"y\", \"domain\": [0.0, 1.0], \"title\": {\"text\": \"date\"}}, \"yaxis\": {\"anchor\": \"x\", \"domain\": [0.0, 1.0], \"title\": {\"text\": \"count\"}}},\n",
       "                        {\"responsive\": true}\n",
       "                    ).then(function(){\n",
       "                            \n",
       "var gd = document.getElementById('e9f02bd2-e6af-41df-bfc5-3aaf42df546d');\n",
       "var x = new MutationObserver(function (mutations, observer) {{\n",
       "        var display = window.getComputedStyle(gd).display;\n",
       "        if (!display || display === 'none') {{\n",
       "            console.log([gd, 'removed!']);\n",
       "            Plotly.purge(gd);\n",
       "            observer.disconnect();\n",
       "        }}\n",
       "}});\n",
       "\n",
       "// Listen for the removal of the full notebook cells\n",
       "var notebookContainer = gd.closest('#notebook-container');\n",
       "if (notebookContainer) {{\n",
       "    x.observe(notebookContainer, {childList: true});\n",
       "}}\n",
       "\n",
       "// Listen for the clearing of the current output cell\n",
       "var outputEl = gd.closest('.output');\n",
       "if (outputEl) {{\n",
       "    x.observe(outputEl, {childList: true});\n",
       "}}\n",
       "\n",
       "                        })\n",
       "                };\n",
       "                });\n",
       "            </script>\n",
       "        </div>"
      ]
     },
     "metadata": {},
     "output_type": "display_data"
    }
   ],
   "source": [
    "fig = px.histogram(Deceased, x=\"date\")\n",
    "\n",
    "fig.show()"
   ]
  },
  {
   "cell_type": "code",
   "execution_count": 27,
   "metadata": {},
   "outputs": [],
   "source": [
    "Deceased['Female'] = Deceased.Gender=='FEMALE'\n",
    "Deceased['Male'] = Deceased.Gender=='MALE'\n",
    "Deceased['Unknown'] = Deceased.Gender=='UNKNOWN'"
   ]
  },
  {
   "cell_type": "code",
   "execution_count": 28,
   "metadata": {},
   "outputs": [
    {
     "data": {
      "text/plain": [
       "[70s, 50s, 80s, 60s, 90s, 40s, 30s]\n",
       "Categories (7, object): [70s, 50s, 80s, 60s, 90s, 40s, 30s]"
      ]
     },
     "execution_count": 28,
     "metadata": {},
     "output_type": "execute_result"
    }
   ],
   "source": [
    "# Grouping the deceased cases based on age group\n",
    "Deceased['Age_Group'].unique()"
   ]
  },
  {
   "cell_type": "code",
   "execution_count": 34,
   "metadata": {},
   "outputs": [],
   "source": [
    "Deceased_G=Deceased[Deceased['Age_Group']!='Unknown'].groupby(['Age_Group'], as_index=False)[['Female','Male','Unknown']].agg(sum)\n"
   ]
  },
  {
   "cell_type": "code",
   "execution_count": 35,
   "metadata": {},
   "outputs": [
    {
     "data": {
      "text/html": [
       "<div>\n",
       "<style scoped>\n",
       "    .dataframe tbody tr th:only-of-type {\n",
       "        vertical-align: middle;\n",
       "    }\n",
       "\n",
       "    .dataframe tbody tr th {\n",
       "        vertical-align: top;\n",
       "    }\n",
       "\n",
       "    .dataframe thead th {\n",
       "        text-align: right;\n",
       "    }\n",
       "</style>\n",
       "<table border=\"1\" class=\"dataframe\">\n",
       "  <thead>\n",
       "    <tr style=\"text-align: right;\">\n",
       "      <th></th>\n",
       "      <th>Age_Group</th>\n",
       "      <th>Female</th>\n",
       "      <th>Male</th>\n",
       "      <th>Unknown</th>\n",
       "    </tr>\n",
       "  </thead>\n",
       "  <tbody>\n",
       "    <tr>\n",
       "      <th>0</th>\n",
       "      <td>20s</td>\n",
       "      <td>0.0</td>\n",
       "      <td>0.0</td>\n",
       "      <td>0.0</td>\n",
       "    </tr>\n",
       "    <tr>\n",
       "      <th>1</th>\n",
       "      <td>30s</td>\n",
       "      <td>0.0</td>\n",
       "      <td>1.0</td>\n",
       "      <td>0.0</td>\n",
       "    </tr>\n",
       "    <tr>\n",
       "      <th>2</th>\n",
       "      <td>40s</td>\n",
       "      <td>1.0</td>\n",
       "      <td>6.0</td>\n",
       "      <td>0.0</td>\n",
       "    </tr>\n",
       "    <tr>\n",
       "      <th>3</th>\n",
       "      <td>50s</td>\n",
       "      <td>7.0</td>\n",
       "      <td>8.0</td>\n",
       "      <td>0.0</td>\n",
       "    </tr>\n",
       "    <tr>\n",
       "      <th>4</th>\n",
       "      <td>60s</td>\n",
       "      <td>11.0</td>\n",
       "      <td>18.0</td>\n",
       "      <td>0.0</td>\n",
       "    </tr>\n",
       "    <tr>\n",
       "      <th>5</th>\n",
       "      <td>70s</td>\n",
       "      <td>31.0</td>\n",
       "      <td>54.0</td>\n",
       "      <td>1.0</td>\n",
       "    </tr>\n",
       "    <tr>\n",
       "      <th>6</th>\n",
       "      <td>80s</td>\n",
       "      <td>73.0</td>\n",
       "      <td>62.0</td>\n",
       "      <td>1.0</td>\n",
       "    </tr>\n",
       "    <tr>\n",
       "      <th>7</th>\n",
       "      <td>90s</td>\n",
       "      <td>62.0</td>\n",
       "      <td>46.0</td>\n",
       "      <td>3.0</td>\n",
       "    </tr>\n",
       "    <tr>\n",
       "      <th>8</th>\n",
       "      <td>&lt;20</td>\n",
       "      <td>0.0</td>\n",
       "      <td>0.0</td>\n",
       "      <td>0.0</td>\n",
       "    </tr>\n",
       "    <tr>\n",
       "      <th>9</th>\n",
       "      <td>Unknown</td>\n",
       "      <td>0.0</td>\n",
       "      <td>0.0</td>\n",
       "      <td>0.0</td>\n",
       "    </tr>\n",
       "  </tbody>\n",
       "</table>\n",
       "</div>"
      ],
      "text/plain": [
       "  Age_Group  Female  Male  Unknown\n",
       "0       20s     0.0   0.0      0.0\n",
       "1       30s     0.0   1.0      0.0\n",
       "2       40s     1.0   6.0      0.0\n",
       "3       50s     7.0   8.0      0.0\n",
       "4       60s    11.0  18.0      0.0\n",
       "5       70s    31.0  54.0      1.0\n",
       "6       80s    73.0  62.0      1.0\n",
       "7       90s    62.0  46.0      3.0\n",
       "8       <20     0.0   0.0      0.0\n",
       "9   Unknown     0.0   0.0      0.0"
      ]
     },
     "execution_count": 35,
     "metadata": {},
     "output_type": "execute_result"
    }
   ],
   "source": [
    "Deceased_G"
   ]
  },
  {
   "cell_type": "code",
   "execution_count": 36,
   "metadata": {},
   "outputs": [
    {
     "data": {
      "application/vnd.plotly.v1+json": {
       "config": {
        "plotlyServerURL": "https://plot.ly"
       },
       "data": [
        {
         "name": "Female",
         "type": "bar",
         "x": [
          "20s",
          "30s",
          "40s",
          "50s",
          "60s",
          "70s",
          "80s",
          "90s",
          "<20",
          "Unknown"
         ],
         "y": [
          0,
          0,
          1,
          7,
          11,
          31,
          73,
          62,
          0,
          0
         ]
        },
        {
         "name": "Male",
         "type": "bar",
         "x": [
          "20s",
          "30s",
          "40s",
          "50s",
          "60s",
          "70s",
          "80s",
          "90s",
          "<20",
          "Unknown"
         ],
         "y": [
          0,
          1,
          6,
          8,
          18,
          54,
          62,
          46,
          0,
          0
         ]
        },
        {
         "name": "Unknown",
         "type": "bar",
         "x": [
          "20s",
          "30s",
          "40s",
          "50s",
          "60s",
          "70s",
          "80s",
          "90s",
          "<20",
          "Unknown"
         ],
         "y": [
          0,
          0,
          0,
          0,
          0,
          1,
          1,
          3,
          0,
          0
         ]
        }
       ],
       "layout": {
        "barmode": "group",
        "template": {
         "data": {
          "bar": [
           {
            "error_x": {
             "color": "#2a3f5f"
            },
            "error_y": {
             "color": "#2a3f5f"
            },
            "marker": {
             "line": {
              "color": "#E5ECF6",
              "width": 0.5
             }
            },
            "type": "bar"
           }
          ],
          "barpolar": [
           {
            "marker": {
             "line": {
              "color": "#E5ECF6",
              "width": 0.5
             }
            },
            "type": "barpolar"
           }
          ],
          "carpet": [
           {
            "aaxis": {
             "endlinecolor": "#2a3f5f",
             "gridcolor": "white",
             "linecolor": "white",
             "minorgridcolor": "white",
             "startlinecolor": "#2a3f5f"
            },
            "baxis": {
             "endlinecolor": "#2a3f5f",
             "gridcolor": "white",
             "linecolor": "white",
             "minorgridcolor": "white",
             "startlinecolor": "#2a3f5f"
            },
            "type": "carpet"
           }
          ],
          "choropleth": [
           {
            "colorbar": {
             "outlinewidth": 0,
             "ticks": ""
            },
            "type": "choropleth"
           }
          ],
          "contour": [
           {
            "colorbar": {
             "outlinewidth": 0,
             "ticks": ""
            },
            "colorscale": [
             [
              0,
              "#0d0887"
             ],
             [
              0.1111111111111111,
              "#46039f"
             ],
             [
              0.2222222222222222,
              "#7201a8"
             ],
             [
              0.3333333333333333,
              "#9c179e"
             ],
             [
              0.4444444444444444,
              "#bd3786"
             ],
             [
              0.5555555555555556,
              "#d8576b"
             ],
             [
              0.6666666666666666,
              "#ed7953"
             ],
             [
              0.7777777777777778,
              "#fb9f3a"
             ],
             [
              0.8888888888888888,
              "#fdca26"
             ],
             [
              1,
              "#f0f921"
             ]
            ],
            "type": "contour"
           }
          ],
          "contourcarpet": [
           {
            "colorbar": {
             "outlinewidth": 0,
             "ticks": ""
            },
            "type": "contourcarpet"
           }
          ],
          "heatmap": [
           {
            "colorbar": {
             "outlinewidth": 0,
             "ticks": ""
            },
            "colorscale": [
             [
              0,
              "#0d0887"
             ],
             [
              0.1111111111111111,
              "#46039f"
             ],
             [
              0.2222222222222222,
              "#7201a8"
             ],
             [
              0.3333333333333333,
              "#9c179e"
             ],
             [
              0.4444444444444444,
              "#bd3786"
             ],
             [
              0.5555555555555556,
              "#d8576b"
             ],
             [
              0.6666666666666666,
              "#ed7953"
             ],
             [
              0.7777777777777778,
              "#fb9f3a"
             ],
             [
              0.8888888888888888,
              "#fdca26"
             ],
             [
              1,
              "#f0f921"
             ]
            ],
            "type": "heatmap"
           }
          ],
          "heatmapgl": [
           {
            "colorbar": {
             "outlinewidth": 0,
             "ticks": ""
            },
            "colorscale": [
             [
              0,
              "#0d0887"
             ],
             [
              0.1111111111111111,
              "#46039f"
             ],
             [
              0.2222222222222222,
              "#7201a8"
             ],
             [
              0.3333333333333333,
              "#9c179e"
             ],
             [
              0.4444444444444444,
              "#bd3786"
             ],
             [
              0.5555555555555556,
              "#d8576b"
             ],
             [
              0.6666666666666666,
              "#ed7953"
             ],
             [
              0.7777777777777778,
              "#fb9f3a"
             ],
             [
              0.8888888888888888,
              "#fdca26"
             ],
             [
              1,
              "#f0f921"
             ]
            ],
            "type": "heatmapgl"
           }
          ],
          "histogram": [
           {
            "marker": {
             "colorbar": {
              "outlinewidth": 0,
              "ticks": ""
             }
            },
            "type": "histogram"
           }
          ],
          "histogram2d": [
           {
            "colorbar": {
             "outlinewidth": 0,
             "ticks": ""
            },
            "colorscale": [
             [
              0,
              "#0d0887"
             ],
             [
              0.1111111111111111,
              "#46039f"
             ],
             [
              0.2222222222222222,
              "#7201a8"
             ],
             [
              0.3333333333333333,
              "#9c179e"
             ],
             [
              0.4444444444444444,
              "#bd3786"
             ],
             [
              0.5555555555555556,
              "#d8576b"
             ],
             [
              0.6666666666666666,
              "#ed7953"
             ],
             [
              0.7777777777777778,
              "#fb9f3a"
             ],
             [
              0.8888888888888888,
              "#fdca26"
             ],
             [
              1,
              "#f0f921"
             ]
            ],
            "type": "histogram2d"
           }
          ],
          "histogram2dcontour": [
           {
            "colorbar": {
             "outlinewidth": 0,
             "ticks": ""
            },
            "colorscale": [
             [
              0,
              "#0d0887"
             ],
             [
              0.1111111111111111,
              "#46039f"
             ],
             [
              0.2222222222222222,
              "#7201a8"
             ],
             [
              0.3333333333333333,
              "#9c179e"
             ],
             [
              0.4444444444444444,
              "#bd3786"
             ],
             [
              0.5555555555555556,
              "#d8576b"
             ],
             [
              0.6666666666666666,
              "#ed7953"
             ],
             [
              0.7777777777777778,
              "#fb9f3a"
             ],
             [
              0.8888888888888888,
              "#fdca26"
             ],
             [
              1,
              "#f0f921"
             ]
            ],
            "type": "histogram2dcontour"
           }
          ],
          "mesh3d": [
           {
            "colorbar": {
             "outlinewidth": 0,
             "ticks": ""
            },
            "type": "mesh3d"
           }
          ],
          "parcoords": [
           {
            "line": {
             "colorbar": {
              "outlinewidth": 0,
              "ticks": ""
             }
            },
            "type": "parcoords"
           }
          ],
          "pie": [
           {
            "automargin": true,
            "type": "pie"
           }
          ],
          "scatter": [
           {
            "marker": {
             "colorbar": {
              "outlinewidth": 0,
              "ticks": ""
             }
            },
            "type": "scatter"
           }
          ],
          "scatter3d": [
           {
            "line": {
             "colorbar": {
              "outlinewidth": 0,
              "ticks": ""
             }
            },
            "marker": {
             "colorbar": {
              "outlinewidth": 0,
              "ticks": ""
             }
            },
            "type": "scatter3d"
           }
          ],
          "scattercarpet": [
           {
            "marker": {
             "colorbar": {
              "outlinewidth": 0,
              "ticks": ""
             }
            },
            "type": "scattercarpet"
           }
          ],
          "scattergeo": [
           {
            "marker": {
             "colorbar": {
              "outlinewidth": 0,
              "ticks": ""
             }
            },
            "type": "scattergeo"
           }
          ],
          "scattergl": [
           {
            "marker": {
             "colorbar": {
              "outlinewidth": 0,
              "ticks": ""
             }
            },
            "type": "scattergl"
           }
          ],
          "scattermapbox": [
           {
            "marker": {
             "colorbar": {
              "outlinewidth": 0,
              "ticks": ""
             }
            },
            "type": "scattermapbox"
           }
          ],
          "scatterpolar": [
           {
            "marker": {
             "colorbar": {
              "outlinewidth": 0,
              "ticks": ""
             }
            },
            "type": "scatterpolar"
           }
          ],
          "scatterpolargl": [
           {
            "marker": {
             "colorbar": {
              "outlinewidth": 0,
              "ticks": ""
             }
            },
            "type": "scatterpolargl"
           }
          ],
          "scatterternary": [
           {
            "marker": {
             "colorbar": {
              "outlinewidth": 0,
              "ticks": ""
             }
            },
            "type": "scatterternary"
           }
          ],
          "surface": [
           {
            "colorbar": {
             "outlinewidth": 0,
             "ticks": ""
            },
            "colorscale": [
             [
              0,
              "#0d0887"
             ],
             [
              0.1111111111111111,
              "#46039f"
             ],
             [
              0.2222222222222222,
              "#7201a8"
             ],
             [
              0.3333333333333333,
              "#9c179e"
             ],
             [
              0.4444444444444444,
              "#bd3786"
             ],
             [
              0.5555555555555556,
              "#d8576b"
             ],
             [
              0.6666666666666666,
              "#ed7953"
             ],
             [
              0.7777777777777778,
              "#fb9f3a"
             ],
             [
              0.8888888888888888,
              "#fdca26"
             ],
             [
              1,
              "#f0f921"
             ]
            ],
            "type": "surface"
           }
          ],
          "table": [
           {
            "cells": {
             "fill": {
              "color": "#EBF0F8"
             },
             "line": {
              "color": "white"
             }
            },
            "header": {
             "fill": {
              "color": "#C8D4E3"
             },
             "line": {
              "color": "white"
             }
            },
            "type": "table"
           }
          ]
         },
         "layout": {
          "annotationdefaults": {
           "arrowcolor": "#2a3f5f",
           "arrowhead": 0,
           "arrowwidth": 1
          },
          "coloraxis": {
           "colorbar": {
            "outlinewidth": 0,
            "ticks": ""
           }
          },
          "colorscale": {
           "diverging": [
            [
             0,
             "#8e0152"
            ],
            [
             0.1,
             "#c51b7d"
            ],
            [
             0.2,
             "#de77ae"
            ],
            [
             0.3,
             "#f1b6da"
            ],
            [
             0.4,
             "#fde0ef"
            ],
            [
             0.5,
             "#f7f7f7"
            ],
            [
             0.6,
             "#e6f5d0"
            ],
            [
             0.7,
             "#b8e186"
            ],
            [
             0.8,
             "#7fbc41"
            ],
            [
             0.9,
             "#4d9221"
            ],
            [
             1,
             "#276419"
            ]
           ],
           "sequential": [
            [
             0,
             "#0d0887"
            ],
            [
             0.1111111111111111,
             "#46039f"
            ],
            [
             0.2222222222222222,
             "#7201a8"
            ],
            [
             0.3333333333333333,
             "#9c179e"
            ],
            [
             0.4444444444444444,
             "#bd3786"
            ],
            [
             0.5555555555555556,
             "#d8576b"
            ],
            [
             0.6666666666666666,
             "#ed7953"
            ],
            [
             0.7777777777777778,
             "#fb9f3a"
            ],
            [
             0.8888888888888888,
             "#fdca26"
            ],
            [
             1,
             "#f0f921"
            ]
           ],
           "sequentialminus": [
            [
             0,
             "#0d0887"
            ],
            [
             0.1111111111111111,
             "#46039f"
            ],
            [
             0.2222222222222222,
             "#7201a8"
            ],
            [
             0.3333333333333333,
             "#9c179e"
            ],
            [
             0.4444444444444444,
             "#bd3786"
            ],
            [
             0.5555555555555556,
             "#d8576b"
            ],
            [
             0.6666666666666666,
             "#ed7953"
            ],
            [
             0.7777777777777778,
             "#fb9f3a"
            ],
            [
             0.8888888888888888,
             "#fdca26"
            ],
            [
             1,
             "#f0f921"
            ]
           ]
          },
          "colorway": [
           "#636efa",
           "#EF553B",
           "#00cc96",
           "#ab63fa",
           "#FFA15A",
           "#19d3f3",
           "#FF6692",
           "#B6E880",
           "#FF97FF",
           "#FECB52"
          ],
          "font": {
           "color": "#2a3f5f"
          },
          "geo": {
           "bgcolor": "white",
           "lakecolor": "white",
           "landcolor": "#E5ECF6",
           "showlakes": true,
           "showland": true,
           "subunitcolor": "white"
          },
          "hoverlabel": {
           "align": "left"
          },
          "hovermode": "closest",
          "mapbox": {
           "style": "light"
          },
          "paper_bgcolor": "white",
          "plot_bgcolor": "#E5ECF6",
          "polar": {
           "angularaxis": {
            "gridcolor": "white",
            "linecolor": "white",
            "ticks": ""
           },
           "bgcolor": "#E5ECF6",
           "radialaxis": {
            "gridcolor": "white",
            "linecolor": "white",
            "ticks": ""
           }
          },
          "scene": {
           "xaxis": {
            "backgroundcolor": "#E5ECF6",
            "gridcolor": "white",
            "gridwidth": 2,
            "linecolor": "white",
            "showbackground": true,
            "ticks": "",
            "zerolinecolor": "white"
           },
           "yaxis": {
            "backgroundcolor": "#E5ECF6",
            "gridcolor": "white",
            "gridwidth": 2,
            "linecolor": "white",
            "showbackground": true,
            "ticks": "",
            "zerolinecolor": "white"
           },
           "zaxis": {
            "backgroundcolor": "#E5ECF6",
            "gridcolor": "white",
            "gridwidth": 2,
            "linecolor": "white",
            "showbackground": true,
            "ticks": "",
            "zerolinecolor": "white"
           }
          },
          "shapedefaults": {
           "line": {
            "color": "#2a3f5f"
           }
          },
          "ternary": {
           "aaxis": {
            "gridcolor": "white",
            "linecolor": "white",
            "ticks": ""
           },
           "baxis": {
            "gridcolor": "white",
            "linecolor": "white",
            "ticks": ""
           },
           "bgcolor": "#E5ECF6",
           "caxis": {
            "gridcolor": "white",
            "linecolor": "white",
            "ticks": ""
           }
          },
          "title": {
           "x": 0.05
          },
          "xaxis": {
           "automargin": true,
           "gridcolor": "white",
           "linecolor": "white",
           "ticks": "",
           "title": {
            "standoff": 15
           },
           "zerolinecolor": "white",
           "zerolinewidth": 2
          },
          "yaxis": {
           "automargin": true,
           "gridcolor": "white",
           "linecolor": "white",
           "ticks": "",
           "title": {
            "standoff": 15
           },
           "zerolinecolor": "white",
           "zerolinewidth": 2
          }
         }
        },
        "title": {
         "text": "Deceased Age_Gender Distribution"
        },
        "xaxis": {
         "tickangle": -45,
         "title": {
          "text": "Age Group"
         }
        },
        "yaxis": {
         "title": {
          "text": "Number of Cases"
         }
        }
       }
      },
      "text/html": [
       "<div>\n",
       "        \n",
       "        \n",
       "            <div id=\"a98bf13b-67a9-496a-920d-6e3e66d622f7\" class=\"plotly-graph-div\" style=\"height:525px; width:100%;\"></div>\n",
       "            <script type=\"text/javascript\">\n",
       "                require([\"plotly\"], function(Plotly) {\n",
       "                    window.PLOTLYENV=window.PLOTLYENV || {};\n",
       "                    \n",
       "                if (document.getElementById(\"a98bf13b-67a9-496a-920d-6e3e66d622f7\")) {\n",
       "                    Plotly.newPlot(\n",
       "                        'a98bf13b-67a9-496a-920d-6e3e66d622f7',\n",
       "                        [{\"name\": \"Female\", \"type\": \"bar\", \"x\": [\"20s\", \"30s\", \"40s\", \"50s\", \"60s\", \"70s\", \"80s\", \"90s\", \"<20\", \"Unknown\"], \"y\": [0.0, 0.0, 1.0, 7.0, 11.0, 31.0, 73.0, 62.0, 0.0, 0.0]}, {\"name\": \"Male\", \"type\": \"bar\", \"x\": [\"20s\", \"30s\", \"40s\", \"50s\", \"60s\", \"70s\", \"80s\", \"90s\", \"<20\", \"Unknown\"], \"y\": [0.0, 1.0, 6.0, 8.0, 18.0, 54.0, 62.0, 46.0, 0.0, 0.0]}, {\"name\": \"Unknown\", \"type\": \"bar\", \"x\": [\"20s\", \"30s\", \"40s\", \"50s\", \"60s\", \"70s\", \"80s\", \"90s\", \"<20\", \"Unknown\"], \"y\": [0.0, 0.0, 0.0, 0.0, 0.0, 1.0, 1.0, 3.0, 0.0, 0.0]}],\n",
       "                        {\"barmode\": \"group\", \"template\": {\"data\": {\"bar\": [{\"error_x\": {\"color\": \"#2a3f5f\"}, \"error_y\": {\"color\": \"#2a3f5f\"}, \"marker\": {\"line\": {\"color\": \"#E5ECF6\", \"width\": 0.5}}, \"type\": \"bar\"}], \"barpolar\": [{\"marker\": {\"line\": {\"color\": \"#E5ECF6\", \"width\": 0.5}}, \"type\": \"barpolar\"}], \"carpet\": [{\"aaxis\": {\"endlinecolor\": \"#2a3f5f\", \"gridcolor\": \"white\", \"linecolor\": \"white\", \"minorgridcolor\": \"white\", \"startlinecolor\": \"#2a3f5f\"}, \"baxis\": {\"endlinecolor\": \"#2a3f5f\", \"gridcolor\": \"white\", \"linecolor\": \"white\", \"minorgridcolor\": \"white\", \"startlinecolor\": \"#2a3f5f\"}, \"type\": \"carpet\"}], \"choropleth\": [{\"colorbar\": {\"outlinewidth\": 0, \"ticks\": \"\"}, \"type\": \"choropleth\"}], \"contour\": [{\"colorbar\": {\"outlinewidth\": 0, \"ticks\": \"\"}, \"colorscale\": [[0.0, \"#0d0887\"], [0.1111111111111111, \"#46039f\"], [0.2222222222222222, \"#7201a8\"], [0.3333333333333333, \"#9c179e\"], [0.4444444444444444, \"#bd3786\"], [0.5555555555555556, \"#d8576b\"], [0.6666666666666666, \"#ed7953\"], [0.7777777777777778, \"#fb9f3a\"], [0.8888888888888888, \"#fdca26\"], [1.0, \"#f0f921\"]], \"type\": \"contour\"}], \"contourcarpet\": [{\"colorbar\": {\"outlinewidth\": 0, \"ticks\": \"\"}, \"type\": \"contourcarpet\"}], \"heatmap\": [{\"colorbar\": {\"outlinewidth\": 0, \"ticks\": \"\"}, \"colorscale\": [[0.0, \"#0d0887\"], [0.1111111111111111, \"#46039f\"], [0.2222222222222222, \"#7201a8\"], [0.3333333333333333, \"#9c179e\"], [0.4444444444444444, \"#bd3786\"], [0.5555555555555556, \"#d8576b\"], [0.6666666666666666, \"#ed7953\"], [0.7777777777777778, \"#fb9f3a\"], [0.8888888888888888, \"#fdca26\"], [1.0, \"#f0f921\"]], \"type\": \"heatmap\"}], \"heatmapgl\": [{\"colorbar\": {\"outlinewidth\": 0, \"ticks\": \"\"}, \"colorscale\": [[0.0, \"#0d0887\"], [0.1111111111111111, \"#46039f\"], [0.2222222222222222, \"#7201a8\"], [0.3333333333333333, \"#9c179e\"], [0.4444444444444444, \"#bd3786\"], [0.5555555555555556, \"#d8576b\"], [0.6666666666666666, \"#ed7953\"], [0.7777777777777778, \"#fb9f3a\"], [0.8888888888888888, \"#fdca26\"], [1.0, \"#f0f921\"]], \"type\": \"heatmapgl\"}], \"histogram\": [{\"marker\": {\"colorbar\": {\"outlinewidth\": 0, \"ticks\": \"\"}}, \"type\": \"histogram\"}], \"histogram2d\": [{\"colorbar\": {\"outlinewidth\": 0, \"ticks\": \"\"}, \"colorscale\": [[0.0, \"#0d0887\"], [0.1111111111111111, \"#46039f\"], [0.2222222222222222, \"#7201a8\"], [0.3333333333333333, \"#9c179e\"], [0.4444444444444444, \"#bd3786\"], [0.5555555555555556, \"#d8576b\"], [0.6666666666666666, \"#ed7953\"], [0.7777777777777778, \"#fb9f3a\"], [0.8888888888888888, \"#fdca26\"], [1.0, \"#f0f921\"]], \"type\": \"histogram2d\"}], \"histogram2dcontour\": [{\"colorbar\": {\"outlinewidth\": 0, \"ticks\": \"\"}, \"colorscale\": [[0.0, \"#0d0887\"], [0.1111111111111111, \"#46039f\"], [0.2222222222222222, \"#7201a8\"], [0.3333333333333333, \"#9c179e\"], [0.4444444444444444, \"#bd3786\"], [0.5555555555555556, \"#d8576b\"], [0.6666666666666666, \"#ed7953\"], [0.7777777777777778, \"#fb9f3a\"], [0.8888888888888888, \"#fdca26\"], [1.0, \"#f0f921\"]], \"type\": \"histogram2dcontour\"}], \"mesh3d\": [{\"colorbar\": {\"outlinewidth\": 0, \"ticks\": \"\"}, \"type\": \"mesh3d\"}], \"parcoords\": [{\"line\": {\"colorbar\": {\"outlinewidth\": 0, \"ticks\": \"\"}}, \"type\": \"parcoords\"}], \"pie\": [{\"automargin\": true, \"type\": \"pie\"}], \"scatter\": [{\"marker\": {\"colorbar\": {\"outlinewidth\": 0, \"ticks\": \"\"}}, \"type\": \"scatter\"}], \"scatter3d\": [{\"line\": {\"colorbar\": {\"outlinewidth\": 0, \"ticks\": \"\"}}, \"marker\": {\"colorbar\": {\"outlinewidth\": 0, \"ticks\": \"\"}}, \"type\": \"scatter3d\"}], \"scattercarpet\": [{\"marker\": {\"colorbar\": {\"outlinewidth\": 0, \"ticks\": \"\"}}, \"type\": \"scattercarpet\"}], \"scattergeo\": [{\"marker\": {\"colorbar\": {\"outlinewidth\": 0, \"ticks\": \"\"}}, \"type\": \"scattergeo\"}], \"scattergl\": [{\"marker\": {\"colorbar\": {\"outlinewidth\": 0, \"ticks\": \"\"}}, \"type\": \"scattergl\"}], \"scattermapbox\": [{\"marker\": {\"colorbar\": {\"outlinewidth\": 0, \"ticks\": \"\"}}, \"type\": \"scattermapbox\"}], \"scatterpolar\": [{\"marker\": {\"colorbar\": {\"outlinewidth\": 0, \"ticks\": \"\"}}, \"type\": \"scatterpolar\"}], \"scatterpolargl\": [{\"marker\": {\"colorbar\": {\"outlinewidth\": 0, \"ticks\": \"\"}}, \"type\": \"scatterpolargl\"}], \"scatterternary\": [{\"marker\": {\"colorbar\": {\"outlinewidth\": 0, \"ticks\": \"\"}}, \"type\": \"scatterternary\"}], \"surface\": [{\"colorbar\": {\"outlinewidth\": 0, \"ticks\": \"\"}, \"colorscale\": [[0.0, \"#0d0887\"], [0.1111111111111111, \"#46039f\"], [0.2222222222222222, \"#7201a8\"], [0.3333333333333333, \"#9c179e\"], [0.4444444444444444, \"#bd3786\"], [0.5555555555555556, \"#d8576b\"], [0.6666666666666666, \"#ed7953\"], [0.7777777777777778, \"#fb9f3a\"], [0.8888888888888888, \"#fdca26\"], [1.0, \"#f0f921\"]], \"type\": \"surface\"}], \"table\": [{\"cells\": {\"fill\": {\"color\": \"#EBF0F8\"}, \"line\": {\"color\": \"white\"}}, \"header\": {\"fill\": {\"color\": \"#C8D4E3\"}, \"line\": {\"color\": \"white\"}}, \"type\": \"table\"}]}, \"layout\": {\"annotationdefaults\": {\"arrowcolor\": \"#2a3f5f\", \"arrowhead\": 0, \"arrowwidth\": 1}, \"coloraxis\": {\"colorbar\": {\"outlinewidth\": 0, \"ticks\": \"\"}}, \"colorscale\": {\"diverging\": [[0, \"#8e0152\"], [0.1, \"#c51b7d\"], [0.2, \"#de77ae\"], [0.3, \"#f1b6da\"], [0.4, \"#fde0ef\"], [0.5, \"#f7f7f7\"], [0.6, \"#e6f5d0\"], [0.7, \"#b8e186\"], [0.8, \"#7fbc41\"], [0.9, \"#4d9221\"], [1, \"#276419\"]], \"sequential\": [[0.0, \"#0d0887\"], [0.1111111111111111, \"#46039f\"], [0.2222222222222222, \"#7201a8\"], [0.3333333333333333, \"#9c179e\"], [0.4444444444444444, \"#bd3786\"], [0.5555555555555556, \"#d8576b\"], [0.6666666666666666, \"#ed7953\"], [0.7777777777777778, \"#fb9f3a\"], [0.8888888888888888, \"#fdca26\"], [1.0, \"#f0f921\"]], \"sequentialminus\": [[0.0, \"#0d0887\"], [0.1111111111111111, \"#46039f\"], [0.2222222222222222, \"#7201a8\"], [0.3333333333333333, \"#9c179e\"], [0.4444444444444444, \"#bd3786\"], [0.5555555555555556, \"#d8576b\"], [0.6666666666666666, \"#ed7953\"], [0.7777777777777778, \"#fb9f3a\"], [0.8888888888888888, \"#fdca26\"], [1.0, \"#f0f921\"]]}, \"colorway\": [\"#636efa\", \"#EF553B\", \"#00cc96\", \"#ab63fa\", \"#FFA15A\", \"#19d3f3\", \"#FF6692\", \"#B6E880\", \"#FF97FF\", \"#FECB52\"], \"font\": {\"color\": \"#2a3f5f\"}, \"geo\": {\"bgcolor\": \"white\", \"lakecolor\": \"white\", \"landcolor\": \"#E5ECF6\", \"showlakes\": true, \"showland\": true, \"subunitcolor\": \"white\"}, \"hoverlabel\": {\"align\": \"left\"}, \"hovermode\": \"closest\", \"mapbox\": {\"style\": \"light\"}, \"paper_bgcolor\": \"white\", \"plot_bgcolor\": \"#E5ECF6\", \"polar\": {\"angularaxis\": {\"gridcolor\": \"white\", \"linecolor\": \"white\", \"ticks\": \"\"}, \"bgcolor\": \"#E5ECF6\", \"radialaxis\": {\"gridcolor\": \"white\", \"linecolor\": \"white\", \"ticks\": \"\"}}, \"scene\": {\"xaxis\": {\"backgroundcolor\": \"#E5ECF6\", \"gridcolor\": \"white\", \"gridwidth\": 2, \"linecolor\": \"white\", \"showbackground\": true, \"ticks\": \"\", \"zerolinecolor\": \"white\"}, \"yaxis\": {\"backgroundcolor\": \"#E5ECF6\", \"gridcolor\": \"white\", \"gridwidth\": 2, \"linecolor\": \"white\", \"showbackground\": true, \"ticks\": \"\", \"zerolinecolor\": \"white\"}, \"zaxis\": {\"backgroundcolor\": \"#E5ECF6\", \"gridcolor\": \"white\", \"gridwidth\": 2, \"linecolor\": \"white\", \"showbackground\": true, \"ticks\": \"\", \"zerolinecolor\": \"white\"}}, \"shapedefaults\": {\"line\": {\"color\": \"#2a3f5f\"}}, \"ternary\": {\"aaxis\": {\"gridcolor\": \"white\", \"linecolor\": \"white\", \"ticks\": \"\"}, \"baxis\": {\"gridcolor\": \"white\", \"linecolor\": \"white\", \"ticks\": \"\"}, \"bgcolor\": \"#E5ECF6\", \"caxis\": {\"gridcolor\": \"white\", \"linecolor\": \"white\", \"ticks\": \"\"}}, \"title\": {\"x\": 0.05}, \"xaxis\": {\"automargin\": true, \"gridcolor\": \"white\", \"linecolor\": \"white\", \"ticks\": \"\", \"title\": {\"standoff\": 15}, \"zerolinecolor\": \"white\", \"zerolinewidth\": 2}, \"yaxis\": {\"automargin\": true, \"gridcolor\": \"white\", \"linecolor\": \"white\", \"ticks\": \"\", \"title\": {\"standoff\": 15}, \"zerolinecolor\": \"white\", \"zerolinewidth\": 2}}}, \"title\": {\"text\": \"Deceased Age_Gender Distribution\"}, \"xaxis\": {\"tickangle\": -45, \"title\": {\"text\": \"Age Group\"}}, \"yaxis\": {\"title\": {\"text\": \"Number of Cases\"}}},\n",
       "                        {\"responsive\": true}\n",
       "                    ).then(function(){\n",
       "                            \n",
       "var gd = document.getElementById('a98bf13b-67a9-496a-920d-6e3e66d622f7');\n",
       "var x = new MutationObserver(function (mutations, observer) {{\n",
       "        var display = window.getComputedStyle(gd).display;\n",
       "        if (!display || display === 'none') {{\n",
       "            console.log([gd, 'removed!']);\n",
       "            Plotly.purge(gd);\n",
       "            observer.disconnect();\n",
       "        }}\n",
       "}});\n",
       "\n",
       "// Listen for the removal of the full notebook cells\n",
       "var notebookContainer = gd.closest('#notebook-container');\n",
       "if (notebookContainer) {{\n",
       "    x.observe(notebookContainer, {childList: true});\n",
       "}}\n",
       "\n",
       "// Listen for the clearing of the current output cell\n",
       "var outputEl = gd.closest('.output');\n",
       "if (outputEl) {{\n",
       "    x.observe(outputEl, {childList: true});\n",
       "}}\n",
       "\n",
       "                        })\n",
       "                };\n",
       "                });\n",
       "            </script>\n",
       "        </div>"
      ]
     },
     "metadata": {},
     "output_type": "display_data"
    }
   ],
   "source": [
    "fig = go.Figure(data=[\n",
    "    go.Bar(name='Female', x=Deceased_G.Age_Group, y=Deceased_G.Female),\n",
    "    go.Bar(name='Male', x=Deceased_G.Age_Group, y=Deceased_G.Male),\n",
    "    go.Bar(name='Unknown', x=Deceased_G.Age_Group, y=Deceased_G.Unknown)\n",
    "])\n",
    "\n",
    "fig.update_layout(title_text='Deceased Age_Gender Distribution', barmode='group', xaxis_tickangle=-45, xaxis_title='Age Group', yaxis_title='Number of Cases')\n",
    "fig.show()"
   ]
  },
  {
   "cell_type": "code",
   "execution_count": null,
   "metadata": {},
   "outputs": [],
   "source": []
  },
  {
   "cell_type": "code",
   "execution_count": 37,
   "metadata": {},
   "outputs": [],
   "source": [
    "# Age group of Confirmed cases with unknown gender\n",
    "Confirmed_GenderUnknown_Ages=df2[(df2.Gender=='UNKNOWN')]['Age_Group']"
   ]
  },
  {
   "cell_type": "code",
   "execution_count": 38,
   "metadata": {},
   "outputs": [
    {
     "data": {
      "text/plain": [
       "90s        0.391304\n",
       "80s        0.173913\n",
       "60s        0.086957\n",
       "50s        0.086957\n",
       "70s        0.065217\n",
       "40s        0.065217\n",
       "30s        0.065217\n",
       "20s        0.065217\n",
       "Unknown    0.000000\n",
       "<20        0.000000\n",
       "Name: Age_Group, dtype: float64"
      ]
     },
     "execution_count": 38,
     "metadata": {},
     "output_type": "execute_result"
    }
   ],
   "source": [
    "Confirmed_GenderUnknown_Ages.value_counts(normalize=True)"
   ]
  },
  {
   "cell_type": "code",
   "execution_count": 39,
   "metadata": {},
   "outputs": [],
   "source": [
    "#subset the confirmed cases from gender caregory(male,female,unknown)\n",
    "df4=df2[((df2.Gender=='MALE')|(df2.Gender=='FEMALE')|(df2.Gender=='UNKNOWN'))&(df2.Age_Group!='Unknown')][['date','Age_Group','Gender','OUTCOME1']]"
   ]
  },
  {
   "cell_type": "code",
   "execution_count": 40,
   "metadata": {},
   "outputs": [
    {
     "data": {
      "text/plain": [
       "(8440, 4)"
      ]
     },
     "execution_count": 40,
     "metadata": {},
     "output_type": "execute_result"
    }
   ],
   "source": [
    "df4.shape"
   ]
  },
  {
   "cell_type": "code",
   "execution_count": 41,
   "metadata": {},
   "outputs": [
    {
     "data": {
      "text/html": [
       "<div>\n",
       "<style scoped>\n",
       "    .dataframe tbody tr th:only-of-type {\n",
       "        vertical-align: middle;\n",
       "    }\n",
       "\n",
       "    .dataframe tbody tr th {\n",
       "        vertical-align: top;\n",
       "    }\n",
       "\n",
       "    .dataframe thead th {\n",
       "        text-align: right;\n",
       "    }\n",
       "</style>\n",
       "<table border=\"1\" class=\"dataframe\">\n",
       "  <thead>\n",
       "    <tr style=\"text-align: right;\">\n",
       "      <th></th>\n",
       "      <th>date</th>\n",
       "      <th>Age_Group</th>\n",
       "      <th>Gender</th>\n",
       "      <th>OUTCOME1</th>\n",
       "    </tr>\n",
       "  </thead>\n",
       "  <tbody>\n",
       "    <tr>\n",
       "      <th>0</th>\n",
       "      <td>2020-03-27</td>\n",
       "      <td>50s</td>\n",
       "      <td>MALE</td>\n",
       "      <td>Resolved</td>\n",
       "    </tr>\n",
       "    <tr>\n",
       "      <th>1</th>\n",
       "      <td>2020-03-25</td>\n",
       "      <td>20s</td>\n",
       "      <td>FEMALE</td>\n",
       "      <td>Resolved</td>\n",
       "    </tr>\n",
       "    <tr>\n",
       "      <th>2</th>\n",
       "      <td>2020-03-29</td>\n",
       "      <td>50s</td>\n",
       "      <td>FEMALE</td>\n",
       "      <td>Resolved</td>\n",
       "    </tr>\n",
       "    <tr>\n",
       "      <th>3</th>\n",
       "      <td>2020-03-26</td>\n",
       "      <td>40s</td>\n",
       "      <td>MALE</td>\n",
       "      <td>Resolved</td>\n",
       "    </tr>\n",
       "    <tr>\n",
       "      <th>4</th>\n",
       "      <td>2020-03-24</td>\n",
       "      <td>40s</td>\n",
       "      <td>FEMALE</td>\n",
       "      <td>Resolved</td>\n",
       "    </tr>\n",
       "  </tbody>\n",
       "</table>\n",
       "</div>"
      ],
      "text/plain": [
       "        date Age_Group  Gender  OUTCOME1\n",
       "0 2020-03-27       50s    MALE  Resolved\n",
       "1 2020-03-25       20s  FEMALE  Resolved\n",
       "2 2020-03-29       50s  FEMALE  Resolved\n",
       "3 2020-03-26       40s    MALE  Resolved\n",
       "4 2020-03-24       40s  FEMALE  Resolved"
      ]
     },
     "execution_count": 41,
     "metadata": {},
     "output_type": "execute_result"
    }
   ],
   "source": [
    "df4.head()"
   ]
  },
  {
   "cell_type": "code",
   "execution_count": 42,
   "metadata": {},
   "outputs": [
    {
     "name": "stdout",
     "output_type": "stream",
     "text": [
      "<class 'pandas.core.frame.DataFrame'>\n",
      "Int64Index: 8440 entries, 0 to 8446\n",
      "Data columns (total 4 columns):\n",
      " #   Column     Non-Null Count  Dtype         \n",
      "---  ------     --------------  -----         \n",
      " 0   date       8440 non-null   datetime64[ns]\n",
      " 1   Age_Group  8440 non-null   category      \n",
      " 2   Gender     8440 non-null   category      \n",
      " 3   OUTCOME1   8440 non-null   object        \n",
      "dtypes: category(2), datetime64[ns](1), object(1)\n",
      "memory usage: 214.9+ KB\n"
     ]
    }
   ],
   "source": [
    "df4.info()"
   ]
  },
  {
   "cell_type": "code",
   "execution_count": 43,
   "metadata": {},
   "outputs": [
    {
     "data": {
      "text/plain": [
       "50s        1549\n",
       "40s        1244\n",
       "60s        1192\n",
       "30s        1048\n",
       "20s         949\n",
       "80s         881\n",
       "70s         797\n",
       "90s         589\n",
       "<20         191\n",
       "Unknown       0\n",
       "Name: Age_Group, dtype: int64"
      ]
     },
     "execution_count": 43,
     "metadata": {},
     "output_type": "execute_result"
    }
   ],
   "source": [
    "df4.Age_Group.value_counts()"
   ]
  },
  {
   "cell_type": "code",
   "execution_count": 44,
   "metadata": {},
   "outputs": [
    {
     "data": {
      "text/plain": [
       "50s        0.183531\n",
       "40s        0.147393\n",
       "60s        0.141232\n",
       "30s        0.124171\n",
       "20s        0.112441\n",
       "80s        0.104384\n",
       "70s        0.094431\n",
       "90s        0.069787\n",
       "<20        0.022630\n",
       "Unknown    0.000000\n",
       "Name: Age_Group, dtype: float64"
      ]
     },
     "execution_count": 44,
     "metadata": {},
     "output_type": "execute_result"
    }
   ],
   "source": [
    "df4.Age_Group.value_counts(normalize=True)"
   ]
  },
  {
   "cell_type": "code",
   "execution_count": 45,
   "metadata": {},
   "outputs": [
    {
     "data": {
      "text/plain": [
       "<matplotlib.axes._subplots.AxesSubplot at 0x1bcdaf92ac8>"
      ]
     },
     "execution_count": 45,
     "metadata": {},
     "output_type": "execute_result"
    },
    {
     "data": {
      "image/png": "[encoded data removed]",
      "text/plain": [
       "<Figure size 432x288 with 1 Axes>"
      ]
     },
     "metadata": {
      "needs_background": "light"
     },
     "output_type": "display_data"
    }
   ],
   "source": [
    "sns.countplot(x='Gender', data=df2)"
   ]
  },
  {
   "cell_type": "code",
   "execution_count": 46,
   "metadata": {},
   "outputs": [
    {
     "data": {
      "text/plain": [
       "<matplotlib.axes._subplots.AxesSubplot at 0x1bcd8fcc088>"
      ]
     },
     "execution_count": 46,
     "metadata": {},
     "output_type": "execute_result"
    },
    {
     "data": {
      "image/png": "[encoded data removed]",
      "text/plain": [
       "<Figure size 432x288 with 1 Axes>"
      ]
     },
     "metadata": {
      "needs_background": "light"
     },
     "output_type": "display_data"
    }
   ],
   "source": [
    "sorted_age_names=['<20','30s','40s','50s','60s','70s','80s','90s']\n",
    "sns.countplot(x='Age_Group', data=df2, order=sorted_age_names, hue='Gender')"
   ]
  },
  {
   "cell_type": "code",
   "execution_count": null,
   "metadata": {},
   "outputs": [],
   "source": []
  },
  {
   "cell_type": "code",
   "execution_count": 47,
   "metadata": {},
   "outputs": [
    {
     "data": {
      "text/plain": [
       "<matplotlib.axes._subplots.AxesSubplot at 0x1bcdc0dd548>"
      ]
     },
     "execution_count": 47,
     "metadata": {},
     "output_type": "execute_result"
    },
    {
     "data": {
      "image/png": "[encoded data removed]",
      "text/plain": [
       "<Figure size 432x288 with 1 Axes>"
      ]
     },
     "metadata": {
      "needs_background": "light"
     },
     "output_type": "display_data"
    }
   ],
   "source": [
    "pd.crosstab(df2.Age_Group, df2.Gender).plot(kind='barh')"
   ]
  },
  {
   "cell_type": "code",
   "execution_count": 48,
   "metadata": {},
   "outputs": [
    {
     "data": {
      "text/plain": [
       "<seaborn.axisgrid.FacetGrid at 0x1bcdc072dc8>"
      ]
     },
     "execution_count": 48,
     "metadata": {},
     "output_type": "execute_result"
    },
    {
     "data": {
      "image/png": "[encoded data removed]",
      "text/plain": [
       "<Figure size 471.875x360 with 1 Axes>"
      ]
     },
     "metadata": {
      "needs_background": "light"
     },
     "output_type": "display_data"
    }
   ],
   "source": [
    "sns.catplot(x=\"Age_Group\", hue='Gender', kind=\"count\", data=df2, order=sorted_age_names)"
   ]
  },
  {
   "cell_type": "code",
   "execution_count": 81,
   "metadata": {},
   "outputs": [],
   "source": []
  },
  {
   "cell_type": "code",
   "execution_count": null,
   "metadata": {},
   "outputs": [],
   "source": []
  },
  {
   "cell_type": "code",
   "execution_count": null,
   "metadata": {},
   "outputs": [],
   "source": []
  }
 ],
 "metadata": {
  "kernelspec": {
   "display_name": "Python 3",
   "language": "python",
   "name": "python3"
  },
  "language_info": {
   "codemirror_mode": {
    "name": "ipython",
    "version": 3
   },
   "file_extension": ".py",
   "mimetype": "text/x-python",
   "name": "python",
   "nbconvert_exporter": "python",
   "pygments_lexer": "ipython3",
   "version": "3.7.4"
  }
 },
 "nbformat": 4,
 "nbformat_minor": 4
}
